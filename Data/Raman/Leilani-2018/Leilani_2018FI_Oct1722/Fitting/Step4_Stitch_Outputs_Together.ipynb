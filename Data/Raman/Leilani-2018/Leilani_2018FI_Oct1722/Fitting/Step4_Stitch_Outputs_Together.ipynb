{
 "cells": [
  {
   "attachments": {},
   "cell_type": "markdown",
   "id": "0a5d30ae-095e-4406-aff7-a817c2603e2c",
   "metadata": {},
   "source": [
    "# 4. Stitch outputs together\n",
    "- Once you have fitted the weak, medium and dense diads, stitch them all together, and apply the Ne correction model"
   ]
  },
  {
   "cell_type": "code",
   "execution_count": 1,
   "id": "56f8c066-4754-4d3e-9217-ae9e8f792016",
   "metadata": {},
   "outputs": [
    {
     "data": {
      "text/plain": [
       "'0.0.59'"
      ]
     },
     "execution_count": 1,
     "metadata": {},
     "output_type": "execute_result"
    }
   ],
   "source": [
    "import numpy as np\n",
    "import pandas as pd\n",
    "import matplotlib.pyplot as plt\n",
    "import joblib\n",
    "import os\n",
    "from pickle import load\n",
    "import pickle\n",
    "import DiadFit as pf\n",
    "pf.__version__"
   ]
  },
  {
   "cell_type": "code",
   "execution_count": 2,
   "id": "cab54670-2019-40be-b7d8-588189ac9ced",
   "metadata": {},
   "outputs": [],
   "source": [
    "MasterFolder = r\"P:\\WORK-GENERAL\\POSTDOC-UCB\\BERKELEY-VIBE\\Documents\\Projects\\Data\\Hawaii_FI\\Data\\Raman\\Leilani-2018\"\n",
    "DayFolder = os.path.join(MasterFolder, \"Leilani_2018FI_Oct1722\")\n",
    "\n",
    "meta_path=DayFolder +  '\\Metadata'\n",
    "spectra_path=DayFolder + '\\Spectra'\n",
    "filetype='headless_txt'\n",
    "\n",
    "if not os.path.exists(MasterFolder + '\\OUTPUT'):\n",
    "    os.mkdir(MasterFolder +'\\OUTPUT')\n",
    "\n",
    "\n",
    "output_path=MasterFolder +'\\OUTPUT'\n"
   ]
  },
  {
   "attachments": {},
   "cell_type": "markdown",
   "id": "8230f033-6c2c-4494-a554-885ab21b2e21",
   "metadata": {},
   "source": [
    "## Load in specra, and combine"
   ]
  },
  {
   "cell_type": "code",
   "execution_count": 3,
   "id": "0b0bb450-0872-44f7-b99e-2585f994efde",
   "metadata": {},
   "outputs": [],
   "source": [
    "from os import path\n",
    "if path.exists('Discarded_df.xlsx'):\n",
    "    discard=pd.read_excel('Discarded_df.xlsx')\n",
    "else:\n",
    "    discard=None\n",
    "if path.exists('Weak_Diads.xlsx'):\n",
    "    grp1=pd.read_excel('Weak_Diads.xlsx')\n",
    "else:\n",
    "    grp1=None\n",
    "if path.exists('Medium_Diads.xlsx'):\n",
    "    grp2=pd.read_excel('Medium_Diads.xlsx')\n",
    "else:\n",
    "    grp2=None\n",
    "if path.exists('Strong_Diads.xlsx'):\n",
    "    grp3=pd.read_excel('Strong_Diads.xlsx')\n",
    "else:\n",
    "    grp3=None\n",
    "df2=pd.concat([grp1, grp2, grp3], axis=0)\n",
    "if discard is not None:\n",
    "    discard_cols=discard[discard.columns.intersection(df2.columns)]\n",
    "    df2=pd.concat([df2, discard_cols])"
   ]
  },
  {
   "cell_type": "code",
   "execution_count": 4,
   "id": "3a7ed038-f31a-41d8-9f30-c278103c56a6",
   "metadata": {},
   "outputs": [
    {
     "data": {
      "text/html": [
       "<div>\n",
       "<style scoped>\n",
       "    .dataframe tbody tr th:only-of-type {\n",
       "        vertical-align: middle;\n",
       "    }\n",
       "\n",
       "    .dataframe tbody tr th {\n",
       "        vertical-align: top;\n",
       "    }\n",
       "\n",
       "    .dataframe thead th {\n",
       "        text-align: right;\n",
       "    }\n",
       "</style>\n",
       "<table border=\"1\" class=\"dataframe\">\n",
       "  <thead>\n",
       "    <tr style=\"text-align: right;\">\n",
       "      <th></th>\n",
       "      <th>Unnamed: 0</th>\n",
       "      <th>filename</th>\n",
       "      <th>Splitting</th>\n",
       "      <th>Split_err_abs</th>\n",
       "      <th>Split_err_quadrature</th>\n",
       "      <th>Diad1_Combofit_Cent</th>\n",
       "      <th>Diad1_cent_err</th>\n",
       "      <th>Diad1_Combofit_Height</th>\n",
       "      <th>Diad1_Voigt_Cent</th>\n",
       "      <th>Diad1_Voigt_Area</th>\n",
       "      <th>...</th>\n",
       "      <th>HB2_Sigma</th>\n",
       "      <th>C13_Cent</th>\n",
       "      <th>C13_Area</th>\n",
       "      <th>C13_Sigma</th>\n",
       "      <th>Diad2_Gauss_Cent</th>\n",
       "      <th>Diad2_Gauss_Area</th>\n",
       "      <th>Diad2_Gauss_Sigma</th>\n",
       "      <th>Diad1_Gauss_Cent</th>\n",
       "      <th>Diad1_Gauss_Area</th>\n",
       "      <th>Diad1_Gauss_Sigma</th>\n",
       "    </tr>\n",
       "  </thead>\n",
       "  <tbody>\n",
       "    <tr>\n",
       "      <th>0</th>\n",
       "      <td>0</td>\n",
       "      <td>LL4-FI10-#1_CRR_DiadFit</td>\n",
       "      <td>103.405375</td>\n",
       "      <td>0.011434</td>\n",
       "      <td>0.008295</td>\n",
       "      <td>1284.919544</td>\n",
       "      <td>0.007028</td>\n",
       "      <td>584.258712</td>\n",
       "      <td>1284.919544</td>\n",
       "      <td>1085.072537</td>\n",
       "      <td>...</td>\n",
       "      <td>NaN</td>\n",
       "      <td>NaN</td>\n",
       "      <td>NaN</td>\n",
       "      <td>NaN</td>\n",
       "      <td>NaN</td>\n",
       "      <td>NaN</td>\n",
       "      <td>NaN</td>\n",
       "      <td>NaN</td>\n",
       "      <td>NaN</td>\n",
       "      <td>NaN</td>\n",
       "    </tr>\n",
       "    <tr>\n",
       "      <th>1</th>\n",
       "      <td>0</td>\n",
       "      <td>LL4-FI10-#10_CRR_DiadFit</td>\n",
       "      <td>103.411159</td>\n",
       "      <td>0.032363</td>\n",
       "      <td>0.024806</td>\n",
       "      <td>1284.907780</td>\n",
       "      <td>0.022951</td>\n",
       "      <td>146.806521</td>\n",
       "      <td>1284.907780</td>\n",
       "      <td>270.460933</td>\n",
       "      <td>...</td>\n",
       "      <td>NaN</td>\n",
       "      <td>NaN</td>\n",
       "      <td>NaN</td>\n",
       "      <td>NaN</td>\n",
       "      <td>NaN</td>\n",
       "      <td>NaN</td>\n",
       "      <td>NaN</td>\n",
       "      <td>NaN</td>\n",
       "      <td>NaN</td>\n",
       "      <td>NaN</td>\n",
       "    </tr>\n",
       "    <tr>\n",
       "      <th>2</th>\n",
       "      <td>0</td>\n",
       "      <td>LL4-FI10-#11</td>\n",
       "      <td>103.390954</td>\n",
       "      <td>0.011602</td>\n",
       "      <td>0.008604</td>\n",
       "      <td>1284.960255</td>\n",
       "      <td>0.007634</td>\n",
       "      <td>513.356229</td>\n",
       "      <td>1284.960255</td>\n",
       "      <td>888.803534</td>\n",
       "      <td>...</td>\n",
       "      <td>NaN</td>\n",
       "      <td>NaN</td>\n",
       "      <td>NaN</td>\n",
       "      <td>NaN</td>\n",
       "      <td>NaN</td>\n",
       "      <td>NaN</td>\n",
       "      <td>NaN</td>\n",
       "      <td>NaN</td>\n",
       "      <td>NaN</td>\n",
       "      <td>NaN</td>\n",
       "    </tr>\n",
       "    <tr>\n",
       "      <th>3</th>\n",
       "      <td>0</td>\n",
       "      <td>LL4-FI10-#12_CRR_DiadFit</td>\n",
       "      <td>103.422823</td>\n",
       "      <td>0.016333</td>\n",
       "      <td>0.013657</td>\n",
       "      <td>1284.886281</td>\n",
       "      <td>0.013320</td>\n",
       "      <td>475.535121</td>\n",
       "      <td>1284.886281</td>\n",
       "      <td>873.118382</td>\n",
       "      <td>...</td>\n",
       "      <td>NaN</td>\n",
       "      <td>NaN</td>\n",
       "      <td>NaN</td>\n",
       "      <td>NaN</td>\n",
       "      <td>NaN</td>\n",
       "      <td>NaN</td>\n",
       "      <td>NaN</td>\n",
       "      <td>NaN</td>\n",
       "      <td>NaN</td>\n",
       "      <td>NaN</td>\n",
       "    </tr>\n",
       "    <tr>\n",
       "      <th>4</th>\n",
       "      <td>0</td>\n",
       "      <td>LL4-FI10-#13_CRR_DiadFit</td>\n",
       "      <td>103.410958</td>\n",
       "      <td>0.008635</td>\n",
       "      <td>0.008635</td>\n",
       "      <td>1284.888440</td>\n",
       "      <td>0.008635</td>\n",
       "      <td>374.531553</td>\n",
       "      <td>1284.888440</td>\n",
       "      <td>680.925579</td>\n",
       "      <td>...</td>\n",
       "      <td>NaN</td>\n",
       "      <td>NaN</td>\n",
       "      <td>NaN</td>\n",
       "      <td>NaN</td>\n",
       "      <td>NaN</td>\n",
       "      <td>NaN</td>\n",
       "      <td>NaN</td>\n",
       "      <td>NaN</td>\n",
       "      <td>NaN</td>\n",
       "      <td>NaN</td>\n",
       "    </tr>\n",
       "  </tbody>\n",
       "</table>\n",
       "<p>5 rows × 41 columns</p>\n",
       "</div>"
      ],
      "text/plain": [
       "  Unnamed: 0                  filename   Splitting  Split_err_abs  \\\n",
       "0          0   LL4-FI10-#1_CRR_DiadFit  103.405375       0.011434   \n",
       "1          0  LL4-FI10-#10_CRR_DiadFit  103.411159       0.032363   \n",
       "2          0              LL4-FI10-#11  103.390954       0.011602   \n",
       "3          0  LL4-FI10-#12_CRR_DiadFit  103.422823       0.016333   \n",
       "4          0  LL4-FI10-#13_CRR_DiadFit  103.410958       0.008635   \n",
       "\n",
       "   Split_err_quadrature  Diad1_Combofit_Cent  Diad1_cent_err  \\\n",
       "0              0.008295          1284.919544        0.007028   \n",
       "1              0.024806          1284.907780        0.022951   \n",
       "2              0.008604          1284.960255        0.007634   \n",
       "3              0.013657          1284.886281        0.013320   \n",
       "4              0.008635          1284.888440        0.008635   \n",
       "\n",
       "   Diad1_Combofit_Height  Diad1_Voigt_Cent  Diad1_Voigt_Area  ...  HB2_Sigma  \\\n",
       "0             584.258712       1284.919544       1085.072537  ...        NaN   \n",
       "1             146.806521       1284.907780        270.460933  ...        NaN   \n",
       "2             513.356229       1284.960255        888.803534  ...        NaN   \n",
       "3             475.535121       1284.886281        873.118382  ...        NaN   \n",
       "4             374.531553       1284.888440        680.925579  ...        NaN   \n",
       "\n",
       "   C13_Cent  C13_Area  C13_Sigma Diad2_Gauss_Cent  Diad2_Gauss_Area  \\\n",
       "0       NaN       NaN        NaN              NaN               NaN   \n",
       "1       NaN       NaN        NaN              NaN               NaN   \n",
       "2       NaN       NaN        NaN              NaN               NaN   \n",
       "3       NaN       NaN        NaN              NaN               NaN   \n",
       "4       NaN       NaN        NaN              NaN               NaN   \n",
       "\n",
       "   Diad2_Gauss_Sigma  Diad1_Gauss_Cent  Diad1_Gauss_Area  Diad1_Gauss_Sigma  \n",
       "0                NaN               NaN               NaN                NaN  \n",
       "1                NaN               NaN               NaN                NaN  \n",
       "2                NaN               NaN               NaN                NaN  \n",
       "3                NaN               NaN               NaN                NaN  \n",
       "4                NaN               NaN               NaN                NaN  \n",
       "\n",
       "[5 rows x 41 columns]"
      ]
     },
     "execution_count": 4,
     "metadata": {},
     "output_type": "execute_result"
    }
   ],
   "source": [
    "df2.head()"
   ]
  },
  {
   "attachments": {},
   "cell_type": "markdown",
   "id": "6449c9b4-d538-4d37-ad78-49c87aa677af",
   "metadata": {},
   "source": [
    "## First, get the metadata for this day"
   ]
  },
  {
   "cell_type": "code",
   "execution_count": 5,
   "id": "027e3ea1-f4ef-4c53-a57d-977e1f639ec9",
   "metadata": {},
   "outputs": [
    {
     "data": {
      "text/plain": [
       "['LL4-FI10-#1.txt',\n",
       " 'LL4-FI10-#10.txt',\n",
       " 'LL4-FI10-#11.txt',\n",
       " 'LL4-FI10-#12.txt',\n",
       " 'LL4-FI10-#13.txt',\n",
       " 'LL4-FI10-#2.txt',\n",
       " 'LL4-FI10-#3.txt',\n",
       " 'LL4-FI10-#4.txt',\n",
       " 'LL4-FI10-#5.txt',\n",
       " 'LL4-FI10-#6.txt',\n",
       " 'LL4-FI10-#7.txt',\n",
       " 'LL4-FI10-#8.txt',\n",
       " 'LL4-FI10-#9.txt',\n",
       " 'LL4-FI12-#1.txt',\n",
       " 'LL4-FI12-#2.txt',\n",
       " 'LL4-FI12dp.txt',\n",
       " 'LL4-FI5-rep1.txt',\n",
       " 'LL4-FI6.txt',\n",
       " 'LL4-FI7-#1.txt',\n",
       " 'LL4-FI7-#10-rep1.txt',\n",
       " 'LL4-FI7-#10.txt',\n",
       " 'LL4-FI7-#11.txt',\n",
       " 'LL4-FI7-#12.txt',\n",
       " 'LL4-FI7-#12cosmicray.txt',\n",
       " 'LL4-FI7-#13.txt',\n",
       " 'LL4-FI7-#2.txt',\n",
       " 'LL4-FI7-#3-cosmicrays.txt',\n",
       " 'LL4-FI7-#3.txt',\n",
       " 'LL4-FI7-#4.txt',\n",
       " 'LL4-FI7-#5.txt',\n",
       " 'LL4-FI7-#6.txt',\n",
       " 'LL4-FI7-#7-rep1.txt',\n",
       " 'LL4-FI7-#7.txt',\n",
       " 'LL4-FI7-#8.txt',\n",
       " 'LL4-FI7-#9.txt',\n",
       " 'LL4-FI8-#1.txt',\n",
       " 'LL4-FI8-#1cosmicratondiad.txt',\n",
       " 'LL4-FI8-stitch.txt',\n",
       " 'LL4-FI8-stitchHQ.txt',\n",
       " 'LL4-FI9-#1.txt']"
      ]
     },
     "execution_count": 5,
     "metadata": {},
     "output_type": "execute_result"
    }
   ],
   "source": [
    "# Put the common string you can in all your Ne lines here\n",
    "ID_str='_'\n",
    "file_ext_meta='txt' # Will only take files of this type \n",
    "diad_meta=pf.get_files(path=meta_path,\n",
    "file_ext='txt', exclude_str=['N', 'Si', 'series','IMG','Cap','window','nodiad'],\n",
    " sort=True)\n",
    "diad_meta"
   ]
  },
  {
   "attachments": {},
   "cell_type": "markdown",
   "id": "378575ca-336b-4f04-bc6e-cf397dfdc56e",
   "metadata": {},
   "source": [
    "## Now get all the important information out of the metadata files"
   ]
  },
  {
   "cell_type": "code",
   "execution_count": 6,
   "id": "57ebb7b9-5c4f-4b49-9686-36f0d2ec9e8d",
   "metadata": {},
   "outputs": [
    {
     "name": "stderr",
     "output_type": "stream",
     "text": [
      "100%|██████████| 40/40 [00:07<00:00,  5.62it/s]"
     ]
    },
    {
     "name": "stdout",
     "output_type": "stream",
     "text": [
      "Done\n"
     ]
    },
    {
     "name": "stderr",
     "output_type": "stream",
     "text": [
      "\n"
     ]
    },
    {
     "data": {
      "text/plain": [
       "'LL4-FI5-rep1.txt'"
      ]
     },
     "execution_count": 6,
     "metadata": {},
     "output_type": "execute_result"
    }
   ],
   "source": [
    "meta=pf.stitch_metadata_in_loop_witec(path=meta_path, \n",
    "Allfiles=diad_meta, prefix=False,\n",
    "trupower=True)\n",
    "meta['filename'].iloc[0]"
   ]
  },
  {
   "attachments": {},
   "cell_type": "markdown",
   "id": "b7a6fbc0-2b4a-4f4b-8cfd-cc227047d833",
   "metadata": {},
   "source": [
    "## Then get a simple file name you can stitch with the spectra"
   ]
  },
  {
   "cell_type": "code",
   "execution_count": 7,
   "id": "ea140384-9cb9-41bf-b57e-eb16120afe12",
   "metadata": {},
   "outputs": [
    {
     "name": "stdout",
     "output_type": "stream",
     "text": [
      "good job, no duplicate file names\n"
     ]
    },
    {
     "data": {
      "text/plain": [
       "'LL4-FI5-rep1'"
      ]
     },
     "execution_count": 7,
     "metadata": {},
     "output_type": "execute_result"
    }
   ],
   "source": [
    "file_m=pf.extracting_filenames_generic(names=meta['filename'],\n",
    "    prefix=False, str_prefix=\" \",\n",
    "   file_type='.txt')\n",
    "# Checks they are all unique\n",
    "file_m[0]"
   ]
  },
  {
   "attachments": {},
   "cell_type": "markdown",
   "id": "80671930-57b4-476b-aec2-0aaf23f072b5",
   "metadata": {},
   "source": [
    "## Now get filename from spectra into same form as metadata"
   ]
  },
  {
   "cell_type": "code",
   "execution_count": 8,
   "id": "5f50eae0-1a22-4d35-ba87-0d853343d859",
   "metadata": {},
   "outputs": [
    {
     "name": "stdout",
     "output_type": "stream",
     "text": [
      "good job, no duplicate file names\n"
     ]
    }
   ],
   "source": [
    "# Remove these to get the pure file name\n",
    "file_s=pf.extracting_filenames_generic(\n",
    "    prefix=False, str_prefix=\" \",\n",
    "    names=df2['filename'].reset_index(drop=True),\n",
    "   file_type='.txt')\n",
    "\n",
    "# Remove the cosmic rays, as doesnt have it in the metatdata\n",
    "file_s = np.char.replace(file_s.astype(str), \"_CRR_DiadFit\", \"\")"
   ]
  },
  {
   "cell_type": "code",
   "execution_count": 9,
   "id": "c53ee945-9b20-473d-9cef-4cfe427ad368",
   "metadata": {},
   "outputs": [
    {
     "data": {
      "text/plain": [
       "array(['LL4-FI10-#1', 'LL4-FI10-#10', 'LL4-FI10-#11', 'LL4-FI10-#12',\n",
       "       'LL4-FI10-#13', 'LL4-FI10-#2', 'LL4-FI10-#3', 'LL4-FI10-#4',\n",
       "       'LL4-FI10-#5', 'LL4-FI10-#6', 'LL4-FI10-#7', 'LL4-FI10-#8',\n",
       "       'LL4-FI10-#9', 'LL4-FI12-#1', 'LL4-FI12-#2', 'LL4-FI12dp',\n",
       "       'LL4-FI6', 'LL4-FI7-#1', 'LL4-FI7-#10-rep1', 'LL4-FI7-#11',\n",
       "       'LL4-FI7-#12', 'LL4-FI7-#12cosmicray', 'LL4-FI7-#13', 'LL4-FI7-#2',\n",
       "       'LL4-FI7-#3-cosmicrays', 'LL4-FI7-#3', 'LL4-FI7-#4', 'LL4-FI7-#5',\n",
       "       'LL4-FI7-#6', 'LL4-FI7-#7-rep1', 'LL4-FI7-#7', 'LL4-FI7-#8',\n",
       "       'LL4-FI7-#9', 'LL4-FI9-#1', 'LL4-FI5-rep1', 'LL4-FI7-#10',\n",
       "       'LL4-FI8-#1', 'LL4-FI8-#1cosmicratondiad'], dtype='<U25')"
      ]
     },
     "execution_count": 9,
     "metadata": {},
     "output_type": "execute_result"
    }
   ],
   "source": [
    "file_s"
   ]
  },
  {
   "cell_type": "code",
   "execution_count": 10,
   "id": "51df3d2d-72d3-44fa-a076-b087cfdb5eef",
   "metadata": {},
   "outputs": [],
   "source": [
    "# Combining them together\n",
    "meta['name_for_matching']=file_m\n",
    "df2['name_for_matching']=file_s\n",
    "df2['Name_for_Secondary_Phases']=file_s\n",
    "df_combo=df2.merge(meta, on='name_for_matching')"
   ]
  },
  {
   "cell_type": "code",
   "execution_count": 11,
   "id": "524e4721-cc10-49c6-a262-e7795d5de57d",
   "metadata": {},
   "outputs": [
    {
     "name": "stdout",
     "output_type": "stream",
     "text": [
      "2\n"
     ]
    },
    {
     "data": {
      "text/html": [
       "<div>\n",
       "<style scoped>\n",
       "    .dataframe tbody tr th:only-of-type {\n",
       "        vertical-align: middle;\n",
       "    }\n",
       "\n",
       "    .dataframe tbody tr th {\n",
       "        vertical-align: top;\n",
       "    }\n",
       "\n",
       "    .dataframe thead th {\n",
       "        text-align: right;\n",
       "    }\n",
       "</style>\n",
       "<table border=\"1\" class=\"dataframe\">\n",
       "  <thead>\n",
       "    <tr style=\"text-align: right;\">\n",
       "      <th></th>\n",
       "      <th>time</th>\n",
       "      <th>preferred_values</th>\n",
       "      <th>lower_values</th>\n",
       "      <th>upper_values</th>\n",
       "    </tr>\n",
       "  </thead>\n",
       "  <tbody>\n",
       "    <tr>\n",
       "      <th>0</th>\n",
       "      <td>53292.0</td>\n",
       "      <td>0.997729</td>\n",
       "      <td>0.997725</td>\n",
       "      <td>0.997734</td>\n",
       "    </tr>\n",
       "    <tr>\n",
       "      <th>1</th>\n",
       "      <td>57603.0</td>\n",
       "      <td>0.997707</td>\n",
       "      <td>0.997702</td>\n",
       "      <td>0.997712</td>\n",
       "    </tr>\n",
       "    <tr>\n",
       "      <th>2</th>\n",
       "      <td>58078.0</td>\n",
       "      <td>0.997705</td>\n",
       "      <td>0.997700</td>\n",
       "      <td>0.997710</td>\n",
       "    </tr>\n",
       "    <tr>\n",
       "      <th>3</th>\n",
       "      <td>58477.0</td>\n",
       "      <td>0.997704</td>\n",
       "      <td>0.997699</td>\n",
       "      <td>0.997709</td>\n",
       "    </tr>\n",
       "    <tr>\n",
       "      <th>4</th>\n",
       "      <td>59053.0</td>\n",
       "      <td>0.997702</td>\n",
       "      <td>0.997697</td>\n",
       "      <td>0.997707</td>\n",
       "    </tr>\n",
       "  </tbody>\n",
       "</table>\n",
       "</div>"
      ],
      "text/plain": [
       "      time  preferred_values  lower_values  upper_values\n",
       "0  53292.0          0.997729      0.997725      0.997734\n",
       "1  57603.0          0.997707      0.997702      0.997712\n",
       "2  58078.0          0.997705      0.997700      0.997710\n",
       "3  58477.0          0.997704      0.997699      0.997709\n",
       "4  59053.0          0.997702      0.997697      0.997707"
      ]
     },
     "execution_count": 11,
     "metadata": {},
     "output_type": "execute_result"
    }
   ],
   "source": [
    "Ne_corr=pf.calculate_Ne_corr_std_err_values(pickle_str='polyfit_data.pkl', \n",
    "    new_x=df_combo['sec since midnight'], CI=0.67)\n",
    "Ne_corr.head()\n"
   ]
  },
  {
   "cell_type": "code",
   "execution_count": 12,
   "id": "9e07a032-4a70-42f9-a291-7ce1f3ed3839",
   "metadata": {},
   "outputs": [],
   "source": [
    "\n",
    "split_err=pf.propagate_errors_for_splitting(Ne_corr, df_combo)\n",
    "df_combo_out=df_combo.copy()\n",
    "df_combo_out.insert(1, 'Corrected_Splitting', df_combo['Splitting']*Ne_corr['preferred_values'])\n",
    "df_combo_out.insert(2, 'Corr_Split+1σ', df_combo_out['Corrected_Splitting']+split_err)\n",
    "df_combo_out.insert(3, 'Corr_Split-1σ',df_combo_out['Corrected_Splitting']-split_err)\n",
    "df_combo_out.insert(4, 'Corr_Split_1σ_val', split_err)\n",
    "\n",
    "nm=os.path.basename(DayFolder)\n",
    "df_combo_out.to_excel(output_path+'/'+nm+'_FI_fitting.xlsx')"
   ]
  },
  {
   "attachments": {},
   "cell_type": "markdown",
   "id": "54b229a4-026d-4e4e-ab0a-ed0362566919",
   "metadata": {},
   "source": [
    "## If you have secondary phases, now is the time to merge those in"
   ]
  },
  {
   "cell_type": "code",
   "execution_count": 13,
   "id": "bc38474f-45cd-4fa5-beef-49db69e82989",
   "metadata": {},
   "outputs": [
    {
     "data": {
      "text/html": [
       "<div>\n",
       "<style scoped>\n",
       "    .dataframe tbody tr th:only-of-type {\n",
       "        vertical-align: middle;\n",
       "    }\n",
       "\n",
       "    .dataframe tbody tr th {\n",
       "        vertical-align: top;\n",
       "    }\n",
       "\n",
       "    .dataframe thead th {\n",
       "        text-align: right;\n",
       "    }\n",
       "</style>\n",
       "<table border=\"1\" class=\"dataframe\">\n",
       "  <thead>\n",
       "    <tr style=\"text-align: right;\">\n",
       "      <th></th>\n",
       "      <th>filename</th>\n",
       "      <th>Peak_Cent_SO2</th>\n",
       "      <th>Peak_Area_SO2</th>\n",
       "      <th>Peak_Height_SO2</th>\n",
       "      <th>Model_name_x</th>\n",
       "      <th>Peak_Cent_Carb</th>\n",
       "      <th>Peak_Area_Carb</th>\n",
       "      <th>Peak_Height_Carb</th>\n",
       "      <th>Model_name_y</th>\n",
       "    </tr>\n",
       "  </thead>\n",
       "  <tbody>\n",
       "    <tr>\n",
       "      <th>0</th>\n",
       "      <td>LL4-FI10-#1.txt</td>\n",
       "      <td>1150.268124</td>\n",
       "      <td>375.595524</td>\n",
       "      <td>229.309453</td>\n",
       "      <td>Spline</td>\n",
       "      <td>NaN</td>\n",
       "      <td>NaN</td>\n",
       "      <td>NaN</td>\n",
       "      <td>NaN</td>\n",
       "    </tr>\n",
       "    <tr>\n",
       "      <th>1</th>\n",
       "      <td>LL4-FI10-#10.txt</td>\n",
       "      <td>1150.179632</td>\n",
       "      <td>66.344330</td>\n",
       "      <td>48.508627</td>\n",
       "      <td>Spline</td>\n",
       "      <td>NaN</td>\n",
       "      <td>NaN</td>\n",
       "      <td>NaN</td>\n",
       "      <td>NaN</td>\n",
       "    </tr>\n",
       "    <tr>\n",
       "      <th>2</th>\n",
       "      <td>LL4-FI10-#11.txt</td>\n",
       "      <td>1150.268124</td>\n",
       "      <td>227.124122</td>\n",
       "      <td>148.189523</td>\n",
       "      <td>Spline</td>\n",
       "      <td>NaN</td>\n",
       "      <td>NaN</td>\n",
       "      <td>NaN</td>\n",
       "      <td>NaN</td>\n",
       "    </tr>\n",
       "    <tr>\n",
       "      <th>3</th>\n",
       "      <td>LL4-FI10-#12.txt</td>\n",
       "      <td>1150.297622</td>\n",
       "      <td>230.768777</td>\n",
       "      <td>154.467402</td>\n",
       "      <td>Spline</td>\n",
       "      <td>NaN</td>\n",
       "      <td>NaN</td>\n",
       "      <td>NaN</td>\n",
       "      <td>NaN</td>\n",
       "    </tr>\n",
       "    <tr>\n",
       "      <th>4</th>\n",
       "      <td>LL4-FI10-#13.txt</td>\n",
       "      <td>1150.268124</td>\n",
       "      <td>194.682113</td>\n",
       "      <td>125.719985</td>\n",
       "      <td>Spline</td>\n",
       "      <td>NaN</td>\n",
       "      <td>NaN</td>\n",
       "      <td>NaN</td>\n",
       "      <td>NaN</td>\n",
       "    </tr>\n",
       "  </tbody>\n",
       "</table>\n",
       "</div>"
      ],
      "text/plain": [
       "           filename  Peak_Cent_SO2  Peak_Area_SO2  Peak_Height_SO2  \\\n",
       "0   LL4-FI10-#1.txt    1150.268124     375.595524       229.309453   \n",
       "1  LL4-FI10-#10.txt    1150.179632      66.344330        48.508627   \n",
       "2  LL4-FI10-#11.txt    1150.268124     227.124122       148.189523   \n",
       "3  LL4-FI10-#12.txt    1150.297622     230.768777       154.467402   \n",
       "4  LL4-FI10-#13.txt    1150.268124     194.682113       125.719985   \n",
       "\n",
       "  Model_name_x  Peak_Cent_Carb  Peak_Area_Carb  Peak_Height_Carb Model_name_y  \n",
       "0       Spline             NaN             NaN               NaN          NaN  \n",
       "1       Spline             NaN             NaN               NaN          NaN  \n",
       "2       Spline             NaN             NaN               NaN          NaN  \n",
       "3       Spline             NaN             NaN               NaN          NaN  \n",
       "4       Spline             NaN             NaN               NaN          NaN  "
      ]
     },
     "execution_count": 13,
     "metadata": {},
     "output_type": "execute_result"
    }
   ],
   "source": [
    "if path.exists('Carb_Peak_fits.xlsx'):\n",
    "    Carb=pd.read_excel('Carb_Peak_fits.xlsx')\n",
    "else:\n",
    "    Carb=None\n",
    "if path.exists('SO2_Peak_fits.xlsx'):\n",
    "    SO2=pd.read_excel('SO2_Peak_fits.xlsx')\n",
    "else:\n",
    "    SO2=None\n",
    "if SO2 is not None and Carb is not None:\n",
    "    Sec_Phases=pd.merge(SO2, Carb, on='filename', how='outer')\n",
    "elif SO2 is not None and Carb is None:\n",
    "    Sec_Phases=SO2\n",
    "elif SO2 is None and Carb is not None:\n",
    "    Sec_Phases=Carb\n",
    "else:\n",
    "    Sec_Phases=None\n",
    "Sec_Phases.head()"
   ]
  },
  {
   "cell_type": "code",
   "execution_count": 14,
   "id": "e8c12b56-b12d-4331-b45c-a204526e502a",
   "metadata": {},
   "outputs": [
    {
     "name": "stdout",
     "output_type": "stream",
     "text": [
      "good job, no duplicate file names\n"
     ]
    }
   ],
   "source": [
    "# Remove these to get the pure file name\n",
    "if Sec_Phases is not None:\n",
    "    file_sec_phase=pf.extracting_filenames_generic(\n",
    "        prefix=False, str_prefix=\" \",\n",
    "        names=Sec_Phases['filename'].reset_index(drop=True),\n",
    "       file_type='.txt')\n",
    "\n",
    "    file_sec_phase"
   ]
  },
  {
   "cell_type": "code",
   "execution_count": 15,
   "id": "ff6b1419-fa62-443b-95f1-78299d7d5656",
   "metadata": {},
   "outputs": [
    {
     "data": {
      "text/plain": [
       "array(['LL4-FI10-#1', 'LL4-FI10-#10', 'LL4-FI10-#11', 'LL4-FI10-#12',\n",
       "       'LL4-FI10-#13', 'LL4-FI10-#2', 'LL4-FI10-#3', 'LL4-FI10-#4',\n",
       "       'LL4-FI10-#5', 'LL4-FI10-#6', 'LL4-FI10-#7', 'LL4-FI10-#8',\n",
       "       'LL4-FI10-#9', 'LL4-FI12-#1', 'LL4-FI12dp', 'LL4-FI5-rep1',\n",
       "       'LL4-FI6', 'LL4-FI7-#10-rep1', 'LL4-FI7-#10', 'LL4-FI7-#11',\n",
       "       'LL4-FI7-#12', 'LL4-FI7-#12cosmicray', 'LL4-FI7-#2',\n",
       "       'LL4-FI7-#3-cosmicrays', 'LL4-FI7-#3', 'LL4-FI7-#4', 'LL4-FI7-#5',\n",
       "       'LL4-FI7-#6', 'LL4-FI7-#8', 'LL4-FI7-#9', 'LL4-FI8-#1',\n",
       "       'LL4-FI8-#1cosmicratondiad', 'LL4-FI9-#1'], dtype=object)"
      ]
     },
     "execution_count": 15,
     "metadata": {},
     "output_type": "execute_result"
    }
   ],
   "source": [
    "file_sec_phase"
   ]
  },
  {
   "cell_type": "code",
   "execution_count": 16,
   "id": "56bacae4-1061-42b5-822a-4a58312a8c22",
   "metadata": {},
   "outputs": [
    {
     "data": {
      "text/plain": [
       "0                   LL4-FI10-#1\n",
       "1                  LL4-FI10-#10\n",
       "2                  LL4-FI10-#11\n",
       "3                  LL4-FI10-#12\n",
       "4                  LL4-FI10-#13\n",
       "5                   LL4-FI10-#2\n",
       "6                   LL4-FI10-#3\n",
       "7                   LL4-FI10-#4\n",
       "8                   LL4-FI10-#5\n",
       "9                   LL4-FI10-#6\n",
       "10                  LL4-FI10-#7\n",
       "11                  LL4-FI10-#8\n",
       "12                  LL4-FI10-#9\n",
       "13                  LL4-FI12-#1\n",
       "14                  LL4-FI12-#2\n",
       "15                   LL4-FI12dp\n",
       "16                      LL4-FI6\n",
       "17                   LL4-FI7-#1\n",
       "18             LL4-FI7-#10-rep1\n",
       "19                  LL4-FI7-#11\n",
       "20                  LL4-FI7-#12\n",
       "21         LL4-FI7-#12cosmicray\n",
       "22                  LL4-FI7-#13\n",
       "23                   LL4-FI7-#2\n",
       "24        LL4-FI7-#3-cosmicrays\n",
       "25                   LL4-FI7-#3\n",
       "26                   LL4-FI7-#4\n",
       "27                   LL4-FI7-#5\n",
       "28                   LL4-FI7-#6\n",
       "29              LL4-FI7-#7-rep1\n",
       "30                   LL4-FI7-#7\n",
       "31                   LL4-FI7-#8\n",
       "32                   LL4-FI7-#9\n",
       "33                   LL4-FI9-#1\n",
       "34                 LL4-FI5-rep1\n",
       "35                  LL4-FI7-#10\n",
       "36                   LL4-FI8-#1\n",
       "37    LL4-FI8-#1cosmicratondiad\n",
       "Name: name_for_matching, dtype: object"
      ]
     },
     "execution_count": 16,
     "metadata": {},
     "output_type": "execute_result"
    }
   ],
   "source": [
    "df_combo['name_for_matching']"
   ]
  },
  {
   "cell_type": "code",
   "execution_count": 17,
   "id": "f09b738b-d075-4f6a-b033-c19e7afd5e26",
   "metadata": {},
   "outputs": [],
   "source": [
    "df_combo['name_for_matching']=df_combo['Name_for_Secondary_Phases']\n",
    "\n",
    "if Sec_Phases is not None:\n",
    "    Sec_Phases['name_for_matching']=file_sec_phase\n",
    "    df_combo_sec_phase=df_combo_out.merge(Sec_Phases, \n",
    "    on='name_for_matching', how='outer')\n",
    "    \n",
    "else:\n",
    "    df_combo_sec_phase=df_combo_out"
   ]
  },
  {
   "attachments": {},
   "cell_type": "markdown",
   "id": "299ea007-e39d-4ff7-8970-ccfbf9d5040c",
   "metadata": {},
   "source": [
    "### Add some more useful columns"
   ]
  },
  {
   "cell_type": "code",
   "execution_count": 18,
   "id": "97111939-e39c-43ce-8ea3-6bb9cd5d150d",
   "metadata": {},
   "outputs": [
    {
     "data": {
      "text/html": [
       "<div>\n",
       "<style scoped>\n",
       "    .dataframe tbody tr th:only-of-type {\n",
       "        vertical-align: middle;\n",
       "    }\n",
       "\n",
       "    .dataframe tbody tr th {\n",
       "        vertical-align: top;\n",
       "    }\n",
       "\n",
       "    .dataframe thead th {\n",
       "        text-align: right;\n",
       "    }\n",
       "</style>\n",
       "<table border=\"1\" class=\"dataframe\">\n",
       "  <thead>\n",
       "    <tr style=\"text-align: right;\">\n",
       "      <th></th>\n",
       "      <th>Unnamed: 0</th>\n",
       "      <th>Corrected_Splitting</th>\n",
       "      <th>Corr_Split+1σ</th>\n",
       "      <th>Corr_Split-1σ</th>\n",
       "      <th>Corr_Split_1σ_val</th>\n",
       "      <th>filename_x</th>\n",
       "      <th>Splitting</th>\n",
       "      <th>Split_err_abs</th>\n",
       "      <th>Split_err_quadrature</th>\n",
       "      <th>Diad1_Combofit_Cent</th>\n",
       "      <th>...</th>\n",
       "      <th>Peak_Cent_SO2</th>\n",
       "      <th>Peak_Area_SO2</th>\n",
       "      <th>Peak_Height_SO2</th>\n",
       "      <th>Model_name_x</th>\n",
       "      <th>Peak_Cent_Carb</th>\n",
       "      <th>Peak_Area_Carb</th>\n",
       "      <th>Peak_Height_Carb</th>\n",
       "      <th>Model_name_y</th>\n",
       "      <th>Carb_Diad_Ratio</th>\n",
       "      <th>SO2_Diad_Ratio</th>\n",
       "    </tr>\n",
       "  </thead>\n",
       "  <tbody>\n",
       "    <tr>\n",
       "      <th>0</th>\n",
       "      <td>0</td>\n",
       "      <td>103.170590</td>\n",
       "      <td>103.178881</td>\n",
       "      <td>103.162299</td>\n",
       "      <td>0.008291</td>\n",
       "      <td>LL4-FI10-#1_CRR_DiadFit</td>\n",
       "      <td>103.405375</td>\n",
       "      <td>0.011434</td>\n",
       "      <td>0.008295</td>\n",
       "      <td>1284.919544</td>\n",
       "      <td>...</td>\n",
       "      <td>1150.268124</td>\n",
       "      <td>375.595524</td>\n",
       "      <td>229.309453</td>\n",
       "      <td>Spline</td>\n",
       "      <td>NaN</td>\n",
       "      <td>NaN</td>\n",
       "      <td>NaN</td>\n",
       "      <td>NaN</td>\n",
       "      <td>NaN</td>\n",
       "      <td>0.136573</td>\n",
       "    </tr>\n",
       "    <tr>\n",
       "      <th>1</th>\n",
       "      <td>0</td>\n",
       "      <td>103.174010</td>\n",
       "      <td>103.198764</td>\n",
       "      <td>103.149255</td>\n",
       "      <td>0.024755</td>\n",
       "      <td>LL4-FI10-#10_CRR_DiadFit</td>\n",
       "      <td>103.411159</td>\n",
       "      <td>0.032363</td>\n",
       "      <td>0.024806</td>\n",
       "      <td>1284.907780</td>\n",
       "      <td>...</td>\n",
       "      <td>1150.179632</td>\n",
       "      <td>66.344330</td>\n",
       "      <td>48.508627</td>\n",
       "      <td>Spline</td>\n",
       "      <td>NaN</td>\n",
       "      <td>NaN</td>\n",
       "      <td>NaN</td>\n",
       "      <td>NaN</td>\n",
       "      <td>NaN</td>\n",
       "      <td>0.100906</td>\n",
       "    </tr>\n",
       "    <tr>\n",
       "      <th>2</th>\n",
       "      <td>0</td>\n",
       "      <td>103.153681</td>\n",
       "      <td>103.162280</td>\n",
       "      <td>103.145082</td>\n",
       "      <td>0.008599</td>\n",
       "      <td>LL4-FI10-#11</td>\n",
       "      <td>103.390954</td>\n",
       "      <td>0.011602</td>\n",
       "      <td>0.008604</td>\n",
       "      <td>1284.960255</td>\n",
       "      <td>...</td>\n",
       "      <td>1150.268124</td>\n",
       "      <td>227.124122</td>\n",
       "      <td>148.189523</td>\n",
       "      <td>Spline</td>\n",
       "      <td>NaN</td>\n",
       "      <td>NaN</td>\n",
       "      <td>NaN</td>\n",
       "      <td>NaN</td>\n",
       "      <td>NaN</td>\n",
       "      <td>0.101527</td>\n",
       "    </tr>\n",
       "    <tr>\n",
       "      <th>3</th>\n",
       "      <td>0</td>\n",
       "      <td>103.185352</td>\n",
       "      <td>103.198987</td>\n",
       "      <td>103.171717</td>\n",
       "      <td>0.013635</td>\n",
       "      <td>LL4-FI10-#12_CRR_DiadFit</td>\n",
       "      <td>103.422823</td>\n",
       "      <td>0.016333</td>\n",
       "      <td>0.013657</td>\n",
       "      <td>1284.886281</td>\n",
       "      <td>...</td>\n",
       "      <td>1150.297622</td>\n",
       "      <td>230.768777</td>\n",
       "      <td>154.467402</td>\n",
       "      <td>Spline</td>\n",
       "      <td>NaN</td>\n",
       "      <td>NaN</td>\n",
       "      <td>NaN</td>\n",
       "      <td>NaN</td>\n",
       "      <td>NaN</td>\n",
       "      <td>0.106145</td>\n",
       "    </tr>\n",
       "    <tr>\n",
       "      <th>4</th>\n",
       "      <td>0</td>\n",
       "      <td>103.173363</td>\n",
       "      <td>103.181994</td>\n",
       "      <td>103.164733</td>\n",
       "      <td>0.008630</td>\n",
       "      <td>LL4-FI10-#13_CRR_DiadFit</td>\n",
       "      <td>103.410958</td>\n",
       "      <td>0.008635</td>\n",
       "      <td>0.008635</td>\n",
       "      <td>1284.888440</td>\n",
       "      <td>...</td>\n",
       "      <td>1150.268124</td>\n",
       "      <td>194.682113</td>\n",
       "      <td>125.719985</td>\n",
       "      <td>Spline</td>\n",
       "      <td>NaN</td>\n",
       "      <td>NaN</td>\n",
       "      <td>NaN</td>\n",
       "      <td>NaN</td>\n",
       "      <td>NaN</td>\n",
       "      <td>0.116977</td>\n",
       "    </tr>\n",
       "  </tbody>\n",
       "</table>\n",
       "<p>5 rows × 70 columns</p>\n",
       "</div>"
      ],
      "text/plain": [
       "  Unnamed: 0  Corrected_Splitting  Corr_Split+1σ  Corr_Split-1σ  \\\n",
       "0          0           103.170590     103.178881     103.162299   \n",
       "1          0           103.174010     103.198764     103.149255   \n",
       "2          0           103.153681     103.162280     103.145082   \n",
       "3          0           103.185352     103.198987     103.171717   \n",
       "4          0           103.173363     103.181994     103.164733   \n",
       "\n",
       "   Corr_Split_1σ_val                filename_x   Splitting  Split_err_abs  \\\n",
       "0           0.008291   LL4-FI10-#1_CRR_DiadFit  103.405375       0.011434   \n",
       "1           0.024755  LL4-FI10-#10_CRR_DiadFit  103.411159       0.032363   \n",
       "2           0.008599              LL4-FI10-#11  103.390954       0.011602   \n",
       "3           0.013635  LL4-FI10-#12_CRR_DiadFit  103.422823       0.016333   \n",
       "4           0.008630  LL4-FI10-#13_CRR_DiadFit  103.410958       0.008635   \n",
       "\n",
       "   Split_err_quadrature  Diad1_Combofit_Cent  ...  Peak_Cent_SO2  \\\n",
       "0              0.008295          1284.919544  ...    1150.268124   \n",
       "1              0.024806          1284.907780  ...    1150.179632   \n",
       "2              0.008604          1284.960255  ...    1150.268124   \n",
       "3              0.013657          1284.886281  ...    1150.297622   \n",
       "4              0.008635          1284.888440  ...    1150.268124   \n",
       "\n",
       "   Peak_Area_SO2  Peak_Height_SO2  Model_name_x  Peak_Cent_Carb  \\\n",
       "0     375.595524       229.309453        Spline             NaN   \n",
       "1      66.344330        48.508627        Spline             NaN   \n",
       "2     227.124122       148.189523        Spline             NaN   \n",
       "3     230.768777       154.467402        Spline             NaN   \n",
       "4     194.682113       125.719985        Spline             NaN   \n",
       "\n",
       "   Peak_Area_Carb  Peak_Height_Carb  Model_name_y Carb_Diad_Ratio  \\\n",
       "0             NaN               NaN           NaN             NaN   \n",
       "1             NaN               NaN           NaN             NaN   \n",
       "2             NaN               NaN           NaN             NaN   \n",
       "3             NaN               NaN           NaN             NaN   \n",
       "4             NaN               NaN           NaN             NaN   \n",
       "\n",
       "   SO2_Diad_Ratio  \n",
       "0        0.136573  \n",
       "1        0.100906  \n",
       "2        0.101527  \n",
       "3        0.106145  \n",
       "4        0.116977  \n",
       "\n",
       "[5 rows x 70 columns]"
      ]
     },
     "execution_count": 18,
     "metadata": {},
     "output_type": "execute_result"
    }
   ],
   "source": [
    "if 'Peak_Area_Carb' in df_combo_sec_phase.columns:\n",
    "    df_combo_sec_phase['Carb_Diad_Ratio']=(df_combo_sec_phase['Peak_Area_Carb']/(df_combo_sec_phase['Diad1_Voigt_Area']\n",
    "                      +df_combo_sec_phase['Diad2_Voigt_Area']))\n",
    "if 'Peak_Area_SO2' in df_combo_sec_phase.columns:\n",
    "    df_combo_sec_phase['SO2_Diad_Ratio']=(df_combo_sec_phase['Peak_Area_SO2']/(df_combo_sec_phase['Diad1_Voigt_Area']\n",
    "                      +df_combo_sec_phase['Diad2_Voigt_Area']))\n",
    "    \n",
    "df_combo_sec_phase.head()"
   ]
  },
  {
   "cell_type": "code",
   "execution_count": 19,
   "id": "9e5cffde-1b26-4aaf-b1c0-eb081c766242",
   "metadata": {},
   "outputs": [],
   "source": [
    "df_combo_sec_phase.to_excel(output_path+'/'+nm+'_FI_fitting_w_sec_phases.xlsx')"
   ]
  },
  {
   "cell_type": "code",
   "execution_count": 20,
   "id": "ba856608",
   "metadata": {},
   "outputs": [],
   "source": [
    "from winotify import Notification, audio\n",
    "\n",
    "toast= Notification(app_id=\"VSCode\",title=\"Notebook completed\",\n",
    "                    msg=\"Step4_Stitch_Outputs_Together is done!\",\n",
    "                    duration=\"short\")\n",
    "toast.set_audio(audio.Mail,loop=False)\n",
    "toast.show()"
   ]
  },
  {
   "cell_type": "code",
   "execution_count": null,
   "id": "4819c90e",
   "metadata": {},
   "outputs": [],
   "source": []
  },
  {
   "cell_type": "code",
   "execution_count": null,
   "id": "9a3d200d",
   "metadata": {},
   "outputs": [],
   "source": []
  },
  {
   "cell_type": "code",
   "execution_count": null,
   "id": "9bbfe0f9",
   "metadata": {},
   "outputs": [],
   "source": []
  }
 ],
 "metadata": {
  "kernelspec": {
   "display_name": "Python 3 (ipykernel)",
   "language": "python",
   "name": "python3"
  },
  "language_info": {
   "codemirror_mode": {
    "name": "ipython",
    "version": 3
   },
   "file_extension": ".py",
   "mimetype": "text/x-python",
   "name": "python",
   "nbconvert_exporter": "python",
   "pygments_lexer": "ipython3",
   "version": "3.9.16"
  }
 },
 "nbformat": 4,
 "nbformat_minor": 5
}
