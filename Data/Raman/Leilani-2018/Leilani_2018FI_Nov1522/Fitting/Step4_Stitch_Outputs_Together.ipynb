{
 "cells": [
  {
   "attachments": {},
   "cell_type": "markdown",
   "id": "0a5d30ae-095e-4406-aff7-a817c2603e2c",
   "metadata": {},
   "source": [
    "# 4. Stitch outputs together\n",
    "- Once you have fitted the weak, medium and dense diads, stitch them all together, and apply the Ne correction model"
   ]
  },
  {
   "cell_type": "code",
   "execution_count": 7,
   "id": "56f8c066-4754-4d3e-9217-ae9e8f792016",
   "metadata": {},
   "outputs": [
    {
     "data": {
      "text/plain": [
       "'0.0.59'"
      ]
     },
     "execution_count": 7,
     "metadata": {},
     "output_type": "execute_result"
    }
   ],
   "source": [
    "import numpy as np\n",
    "import pandas as pd\n",
    "import matplotlib.pyplot as plt\n",
    "import joblib\n",
    "import os\n",
    "from pickle import load\n",
    "import pickle\n",
    "import DiadFit as pf\n",
    "pf.__version__"
   ]
  },
  {
   "cell_type": "code",
   "execution_count": 8,
   "id": "cab54670-2019-40be-b7d8-588189ac9ced",
   "metadata": {},
   "outputs": [],
   "source": [
    "MasterFolder = r\"P:\\WORK-GENERAL\\POSTDOC-UCB\\BERKELEY-VIBE\\Documents\\Projects\\Data\\Hawaii_FI\\Data\\Raman\\Leilani-2018\"\n",
    "DayFolder = os.path.join(MasterFolder, \"Leilani_2018FI_Ap523\")\n",
    "\n",
    "meta_path=DayFolder +  '\\Metadata'\n",
    "spectra_path=DayFolder + '\\Spectra'\n",
    "filetype='headless_txt'\n",
    "\n",
    "if not os.path.exists(MasterFolder + '\\OUTPUT'):\n",
    "    os.mkdir(MasterFolder +'\\OUTPUT')\n",
    "\n",
    "\n",
    "output_path=MasterFolder +'\\OUTPUT'\n"
   ]
  },
  {
   "attachments": {},
   "cell_type": "markdown",
   "id": "8230f033-6c2c-4494-a554-885ab21b2e21",
   "metadata": {},
   "source": [
    "## Load in specra, and combine"
   ]
  },
  {
   "cell_type": "code",
   "execution_count": 9,
   "id": "0b0bb450-0872-44f7-b99e-2585f994efde",
   "metadata": {},
   "outputs": [],
   "source": [
    "from os import path\n",
    "if path.exists('Discarded_df.xlsx'):\n",
    "    discard=pd.read_excel('Discarded_df.xlsx')\n",
    "else:\n",
    "    discard=None\n",
    "if path.exists('Weak_Diads.xlsx'):\n",
    "    grp1=pd.read_excel('Weak_Diads.xlsx')\n",
    "else:\n",
    "    grp1=None\n",
    "if path.exists('Medium_Diads.xlsx'):\n",
    "    grp2=pd.read_excel('Medium_Diads.xlsx')\n",
    "else:\n",
    "    grp2=None\n",
    "if path.exists('Strong_Diads.xlsx'):\n",
    "    grp3=pd.read_excel('Strong_Diads.xlsx')\n",
    "else:\n",
    "    grp3=None\n",
    "df2=pd.concat([grp1, grp2, grp3], axis=0)\n",
    "if discard is not None:\n",
    "    discard_cols=discard[discard.columns.intersection(df2.columns)]\n",
    "    df2=pd.concat([df2, discard_cols])"
   ]
  },
  {
   "cell_type": "code",
   "execution_count": 10,
   "id": "3a7ed038-f31a-41d8-9f30-c278103c56a6",
   "metadata": {},
   "outputs": [
    {
     "data": {
      "text/html": [
       "<div>\n",
       "<style scoped>\n",
       "    .dataframe tbody tr th:only-of-type {\n",
       "        vertical-align: middle;\n",
       "    }\n",
       "\n",
       "    .dataframe tbody tr th {\n",
       "        vertical-align: top;\n",
       "    }\n",
       "\n",
       "    .dataframe thead th {\n",
       "        text-align: right;\n",
       "    }\n",
       "</style>\n",
       "<table border=\"1\" class=\"dataframe\">\n",
       "  <thead>\n",
       "    <tr style=\"text-align: right;\">\n",
       "      <th></th>\n",
       "      <th>Unnamed: 0</th>\n",
       "      <th>filename</th>\n",
       "      <th>Splitting</th>\n",
       "      <th>Split_err_abs</th>\n",
       "      <th>Split_err_quadrature</th>\n",
       "      <th>Diad1_Combofit_Cent</th>\n",
       "      <th>Diad1_cent_err</th>\n",
       "      <th>Diad1_Combofit_Height</th>\n",
       "      <th>Diad1_Voigt_Cent</th>\n",
       "      <th>Diad1_Voigt_Area</th>\n",
       "      <th>...</th>\n",
       "      <th>HB2_Sigma</th>\n",
       "      <th>C13_Cent</th>\n",
       "      <th>C13_Area</th>\n",
       "      <th>C13_Sigma</th>\n",
       "      <th>Diad2_Gauss_Cent</th>\n",
       "      <th>Diad2_Gauss_Area</th>\n",
       "      <th>Diad2_Gauss_Sigma</th>\n",
       "      <th>Diad1_Gauss_Cent</th>\n",
       "      <th>Diad1_Gauss_Area</th>\n",
       "      <th>Diad1_Gauss_Sigma</th>\n",
       "    </tr>\n",
       "  </thead>\n",
       "  <tbody>\n",
       "    <tr>\n",
       "      <th>0</th>\n",
       "      <td>0</td>\n",
       "      <td>K21-71-FI#1-12mwx3</td>\n",
       "      <td>103.293712</td>\n",
       "      <td>0.012129</td>\n",
       "      <td>0.009098</td>\n",
       "      <td>1285.683789</td>\n",
       "      <td>0.008211</td>\n",
       "      <td>772.039750</td>\n",
       "      <td>1285.683789</td>\n",
       "      <td>1167.328533</td>\n",
       "      <td>...</td>\n",
       "      <td>NaN</td>\n",
       "      <td>NaN</td>\n",
       "      <td>NaN</td>\n",
       "      <td>NaN</td>\n",
       "      <td>NaN</td>\n",
       "      <td>NaN</td>\n",
       "      <td>NaN</td>\n",
       "      <td>NaN</td>\n",
       "      <td>NaN</td>\n",
       "      <td>NaN</td>\n",
       "    </tr>\n",
       "    <tr>\n",
       "      <th>1</th>\n",
       "      <td>0</td>\n",
       "      <td>K21-71-FI#1-6mwx1</td>\n",
       "      <td>103.318938</td>\n",
       "      <td>0.003384</td>\n",
       "      <td>0.003384</td>\n",
       "      <td>1285.618420</td>\n",
       "      <td>0.000000</td>\n",
       "      <td>710.826095</td>\n",
       "      <td>1285.618420</td>\n",
       "      <td>1111.194572</td>\n",
       "      <td>...</td>\n",
       "      <td>NaN</td>\n",
       "      <td>NaN</td>\n",
       "      <td>NaN</td>\n",
       "      <td>NaN</td>\n",
       "      <td>NaN</td>\n",
       "      <td>NaN</td>\n",
       "      <td>NaN</td>\n",
       "      <td>NaN</td>\n",
       "      <td>NaN</td>\n",
       "      <td>NaN</td>\n",
       "    </tr>\n",
       "    <tr>\n",
       "      <th>2</th>\n",
       "      <td>0</td>\n",
       "      <td>K21-71-FI#1-6mwx2</td>\n",
       "      <td>103.318954</td>\n",
       "      <td>0.009116</td>\n",
       "      <td>0.006657</td>\n",
       "      <td>1285.627372</td>\n",
       "      <td>0.005733</td>\n",
       "      <td>721.458388</td>\n",
       "      <td>1285.627372</td>\n",
       "      <td>1114.437529</td>\n",
       "      <td>...</td>\n",
       "      <td>NaN</td>\n",
       "      <td>NaN</td>\n",
       "      <td>NaN</td>\n",
       "      <td>NaN</td>\n",
       "      <td>NaN</td>\n",
       "      <td>NaN</td>\n",
       "      <td>NaN</td>\n",
       "      <td>NaN</td>\n",
       "      <td>NaN</td>\n",
       "      <td>NaN</td>\n",
       "    </tr>\n",
       "    <tr>\n",
       "      <th>3</th>\n",
       "      <td>0</td>\n",
       "      <td>K21-71-FI#1-6mwx3_CRR_DiadFit</td>\n",
       "      <td>103.308020</td>\n",
       "      <td>0.005271</td>\n",
       "      <td>0.003897</td>\n",
       "      <td>1285.637851</td>\n",
       "      <td>0.001831</td>\n",
       "      <td>645.981420</td>\n",
       "      <td>1285.637851</td>\n",
       "      <td>1004.206661</td>\n",
       "      <td>...</td>\n",
       "      <td>NaN</td>\n",
       "      <td>NaN</td>\n",
       "      <td>NaN</td>\n",
       "      <td>NaN</td>\n",
       "      <td>NaN</td>\n",
       "      <td>NaN</td>\n",
       "      <td>NaN</td>\n",
       "      <td>NaN</td>\n",
       "      <td>NaN</td>\n",
       "      <td>NaN</td>\n",
       "    </tr>\n",
       "    <tr>\n",
       "      <th>4</th>\n",
       "      <td>0</td>\n",
       "      <td>K21-72-FI#1</td>\n",
       "      <td>102.995137</td>\n",
       "      <td>0.049546</td>\n",
       "      <td>0.036180</td>\n",
       "      <td>1286.494784</td>\n",
       "      <td>0.031159</td>\n",
       "      <td>82.138042</td>\n",
       "      <td>1286.494784</td>\n",
       "      <td>71.887385</td>\n",
       "      <td>...</td>\n",
       "      <td>NaN</td>\n",
       "      <td>NaN</td>\n",
       "      <td>NaN</td>\n",
       "      <td>NaN</td>\n",
       "      <td>NaN</td>\n",
       "      <td>NaN</td>\n",
       "      <td>NaN</td>\n",
       "      <td>NaN</td>\n",
       "      <td>NaN</td>\n",
       "      <td>NaN</td>\n",
       "    </tr>\n",
       "  </tbody>\n",
       "</table>\n",
       "<p>5 rows × 41 columns</p>\n",
       "</div>"
      ],
      "text/plain": [
       "  Unnamed: 0                       filename   Splitting  Split_err_abs  \\\n",
       "0          0             K21-71-FI#1-12mwx3  103.293712       0.012129   \n",
       "1          0              K21-71-FI#1-6mwx1  103.318938       0.003384   \n",
       "2          0              K21-71-FI#1-6mwx2  103.318954       0.009116   \n",
       "3          0  K21-71-FI#1-6mwx3_CRR_DiadFit  103.308020       0.005271   \n",
       "4          0                    K21-72-FI#1  102.995137       0.049546   \n",
       "\n",
       "   Split_err_quadrature  Diad1_Combofit_Cent  Diad1_cent_err  \\\n",
       "0              0.009098          1285.683789        0.008211   \n",
       "1              0.003384          1285.618420        0.000000   \n",
       "2              0.006657          1285.627372        0.005733   \n",
       "3              0.003897          1285.637851        0.001831   \n",
       "4              0.036180          1286.494784        0.031159   \n",
       "\n",
       "   Diad1_Combofit_Height  Diad1_Voigt_Cent  Diad1_Voigt_Area  ...  HB2_Sigma  \\\n",
       "0             772.039750       1285.683789       1167.328533  ...        NaN   \n",
       "1             710.826095       1285.618420       1111.194572  ...        NaN   \n",
       "2             721.458388       1285.627372       1114.437529  ...        NaN   \n",
       "3             645.981420       1285.637851       1004.206661  ...        NaN   \n",
       "4              82.138042       1286.494784         71.887385  ...        NaN   \n",
       "\n",
       "   C13_Cent  C13_Area  C13_Sigma Diad2_Gauss_Cent  Diad2_Gauss_Area  \\\n",
       "0       NaN       NaN        NaN              NaN               NaN   \n",
       "1       NaN       NaN        NaN              NaN               NaN   \n",
       "2       NaN       NaN        NaN              NaN               NaN   \n",
       "3       NaN       NaN        NaN              NaN               NaN   \n",
       "4       NaN       NaN        NaN              NaN               NaN   \n",
       "\n",
       "   Diad2_Gauss_Sigma  Diad1_Gauss_Cent  Diad1_Gauss_Area  Diad1_Gauss_Sigma  \n",
       "0                NaN               NaN               NaN                NaN  \n",
       "1                NaN               NaN               NaN                NaN  \n",
       "2                NaN               NaN               NaN                NaN  \n",
       "3                NaN               NaN               NaN                NaN  \n",
       "4                NaN               NaN               NaN                NaN  \n",
       "\n",
       "[5 rows x 41 columns]"
      ]
     },
     "execution_count": 10,
     "metadata": {},
     "output_type": "execute_result"
    }
   ],
   "source": [
    "df2.head()"
   ]
  },
  {
   "attachments": {},
   "cell_type": "markdown",
   "id": "6449c9b4-d538-4d37-ad78-49c87aa677af",
   "metadata": {},
   "source": [
    "## First, get the metadata for this day"
   ]
  },
  {
   "cell_type": "code",
   "execution_count": 11,
   "id": "027e3ea1-f4ef-4c53-a57d-977e1f639ec9",
   "metadata": {},
   "outputs": [
    {
     "data": {
      "text/plain": [
       "['K21-71-FI#1-12mwx1.txt',\n",
       " 'K21-71-FI#1-12mwx2.txt',\n",
       " 'K21-71-FI#1-12mwx3.txt',\n",
       " 'K21-71-FI#1-6mwx1.txt',\n",
       " 'K21-71-FI#1-6mwx2.txt',\n",
       " 'K21-71-FI#1-6mwx3.txt',\n",
       " 'K21-72-FI#1.txt',\n",
       " 'K21-72-FI#2.txt',\n",
       " 'K21-73-FI#2.txt',\n",
       " 'K21-74-FI#1.txt',\n",
       " 'K21-74-FI#2.txt',\n",
       " 'K21-74-FI#3.txt',\n",
       " 'K21-74-FI#4.txt',\n",
       " 'K21-74-FI#5.txt',\n",
       " 'K21-74-FI#5rep2.txt',\n",
       " 'K21-74-FI#6.txt',\n",
       " 'K21-75-FI#1 (1).txt',\n",
       " 'K21-75-FI#1.txt',\n",
       " 'K21-75-FI#2 (1).txt',\n",
       " 'K21-75-FI#2.txt',\n",
       " 'K21-75-FI#3.txt',\n",
       " 'K21-77-FI#1.txt',\n",
       " 'K21-78b-FI#2.txt',\n",
       " 'K21-78b-FI#3.txt',\n",
       " 'K21-78b-FI#4.txt',\n",
       " 'K21-78b-FI#5.txt']"
      ]
     },
     "execution_count": 11,
     "metadata": {},
     "output_type": "execute_result"
    }
   ],
   "source": [
    "# Put the common string you can in all your Ne lines here\n",
    "ID_str='_'\n",
    "file_ext_meta='txt' # Will only take files of this type \n",
    "diad_meta=pf.get_files(path=meta_path,\n",
    "file_ext='txt', exclude_str=['N', 'Si', 'series','IMG','Cap','window','nodiad'],\n",
    " sort=True)\n",
    "diad_meta"
   ]
  },
  {
   "attachments": {},
   "cell_type": "markdown",
   "id": "378575ca-336b-4f04-bc6e-cf397dfdc56e",
   "metadata": {},
   "source": [
    "## Now get all the important information out of the metadata files"
   ]
  },
  {
   "cell_type": "code",
   "execution_count": 12,
   "id": "57ebb7b9-5c4f-4b49-9686-36f0d2ec9e8d",
   "metadata": {},
   "outputs": [
    {
     "name": "stderr",
     "output_type": "stream",
     "text": [
      "100%|██████████| 26/26 [00:00<00:00, 81.98it/s]"
     ]
    },
    {
     "name": "stdout",
     "output_type": "stream",
     "text": [
      "Done\n"
     ]
    },
    {
     "name": "stderr",
     "output_type": "stream",
     "text": [
      "\n"
     ]
    },
    {
     "data": {
      "text/plain": [
       "'K21-71-FI#1-12mwx1.txt'"
      ]
     },
     "execution_count": 12,
     "metadata": {},
     "output_type": "execute_result"
    }
   ],
   "source": [
    "meta=pf.stitch_metadata_in_loop_witec(path=meta_path, \n",
    "Allfiles=diad_meta, prefix=False,\n",
    "trupower=True)\n",
    "meta['filename'].iloc[0]"
   ]
  },
  {
   "attachments": {},
   "cell_type": "markdown",
   "id": "b7a6fbc0-2b4a-4f4b-8cfd-cc227047d833",
   "metadata": {},
   "source": [
    "## Then get a simple file name you can stitch with the spectra"
   ]
  },
  {
   "cell_type": "code",
   "execution_count": 13,
   "id": "ea140384-9cb9-41bf-b57e-eb16120afe12",
   "metadata": {},
   "outputs": [
    {
     "name": "stdout",
     "output_type": "stream",
     "text": [
      "good job, no duplicate file names\n"
     ]
    },
    {
     "data": {
      "text/plain": [
       "'K21-71-FI#1-12mwx1'"
      ]
     },
     "execution_count": 13,
     "metadata": {},
     "output_type": "execute_result"
    }
   ],
   "source": [
    "file_m=pf.extracting_filenames_generic(names=meta['filename'],\n",
    "    prefix=False, str_prefix=\" \",\n",
    "   file_type='.txt')\n",
    "# Checks they are all unique\n",
    "file_m[0]"
   ]
  },
  {
   "attachments": {},
   "cell_type": "markdown",
   "id": "80671930-57b4-476b-aec2-0aaf23f072b5",
   "metadata": {},
   "source": [
    "## Now get filename from spectra into same form as metadata"
   ]
  },
  {
   "cell_type": "code",
   "execution_count": 14,
   "id": "5f50eae0-1a22-4d35-ba87-0d853343d859",
   "metadata": {},
   "outputs": [
    {
     "name": "stdout",
     "output_type": "stream",
     "text": [
      "good job, no duplicate file names\n"
     ]
    }
   ],
   "source": [
    "# Remove these to get the pure file name\n",
    "file_s=pf.extracting_filenames_generic(\n",
    "    prefix=False, str_prefix=\" \",\n",
    "    names=df2['filename'].reset_index(drop=True),\n",
    "   file_type='.txt')\n",
    "\n",
    "# Remove the cosmic rays, as doesnt have it in the metatdata\n",
    "file_s = np.char.replace(file_s.astype(str), \"_CRR_DiadFit\", \"\")"
   ]
  },
  {
   "cell_type": "code",
   "execution_count": 15,
   "id": "c53ee945-9b20-473d-9cef-4cfe427ad368",
   "metadata": {},
   "outputs": [
    {
     "data": {
      "text/plain": [
       "array(['K21-71-FI#1-12mwx3', 'K21-71-FI#1-6mwx1', 'K21-71-FI#1-6mwx2',\n",
       "       'K21-71-FI#1-6mwx3', 'K21-72-FI#1', 'K21-72-FI#2', 'K21-73-FI#2',\n",
       "       'K21-74-FI#1', 'K21-74-FI#2', 'K21-74-FI#3', 'K21-74-FI#4',\n",
       "       'K21-74-FI#5', 'K21-74-FI#5rep2', 'K21-74-FI#6', 'K21-75-FI#1',\n",
       "       'K21-75-FI#2 (1)', 'K21-75-FI#2', 'K21-75-FI#3', 'K21-77-FI#1',\n",
       "       'K21-78b-FI#2', 'K21-78b-FI#3', 'K21-78b-FI#4', 'K21-78b-FI#5',\n",
       "       'K21-71-FI#1-12mwx1', 'K21-71-FI#1-12mwx2', 'K21-75-FI#1 (1)'],\n",
       "      dtype='<U18')"
      ]
     },
     "execution_count": 15,
     "metadata": {},
     "output_type": "execute_result"
    }
   ],
   "source": [
    "file_s"
   ]
  },
  {
   "cell_type": "code",
   "execution_count": 16,
   "id": "51df3d2d-72d3-44fa-a076-b087cfdb5eef",
   "metadata": {},
   "outputs": [],
   "source": [
    "# Combining them together\n",
    "meta['name_for_matching']=file_m\n",
    "df2['name_for_matching']=file_s\n",
    "df2['Name_for_Secondary_Phases']=file_s\n",
    "df_combo=df2.merge(meta, on='name_for_matching')"
   ]
  },
  {
   "cell_type": "code",
   "execution_count": 17,
   "id": "524e4721-cc10-49c6-a262-e7795d5de57d",
   "metadata": {},
   "outputs": [
    {
     "name": "stdout",
     "output_type": "stream",
     "text": [
      "1\n"
     ]
    },
    {
     "data": {
      "text/html": [
       "<div>\n",
       "<style scoped>\n",
       "    .dataframe tbody tr th:only-of-type {\n",
       "        vertical-align: middle;\n",
       "    }\n",
       "\n",
       "    .dataframe tbody tr th {\n",
       "        vertical-align: top;\n",
       "    }\n",
       "\n",
       "    .dataframe thead th {\n",
       "        text-align: right;\n",
       "    }\n",
       "</style>\n",
       "<table border=\"1\" class=\"dataframe\">\n",
       "  <thead>\n",
       "    <tr style=\"text-align: right;\">\n",
       "      <th></th>\n",
       "      <th>time</th>\n",
       "      <th>preferred_values</th>\n",
       "      <th>lower_values</th>\n",
       "      <th>upper_values</th>\n",
       "    </tr>\n",
       "  </thead>\n",
       "  <tbody>\n",
       "    <tr>\n",
       "      <th>0</th>\n",
       "      <td>43968.0</td>\n",
       "      <td>0.997978</td>\n",
       "      <td>0.997972</td>\n",
       "      <td>0.997984</td>\n",
       "    </tr>\n",
       "    <tr>\n",
       "      <th>1</th>\n",
       "      <td>42902.0</td>\n",
       "      <td>0.997989</td>\n",
       "      <td>0.997983</td>\n",
       "      <td>0.997995</td>\n",
       "    </tr>\n",
       "    <tr>\n",
       "      <th>2</th>\n",
       "      <td>43148.0</td>\n",
       "      <td>0.997986</td>\n",
       "      <td>0.997980</td>\n",
       "      <td>0.997992</td>\n",
       "    </tr>\n",
       "    <tr>\n",
       "      <th>3</th>\n",
       "      <td>43412.0</td>\n",
       "      <td>0.997984</td>\n",
       "      <td>0.997977</td>\n",
       "      <td>0.997990</td>\n",
       "    </tr>\n",
       "    <tr>\n",
       "      <th>4</th>\n",
       "      <td>45585.0</td>\n",
       "      <td>0.997964</td>\n",
       "      <td>0.997958</td>\n",
       "      <td>0.997970</td>\n",
       "    </tr>\n",
       "  </tbody>\n",
       "</table>\n",
       "</div>"
      ],
      "text/plain": [
       "      time  preferred_values  lower_values  upper_values\n",
       "0  43968.0          0.997978      0.997972      0.997984\n",
       "1  42902.0          0.997989      0.997983      0.997995\n",
       "2  43148.0          0.997986      0.997980      0.997992\n",
       "3  43412.0          0.997984      0.997977      0.997990\n",
       "4  45585.0          0.997964      0.997958      0.997970"
      ]
     },
     "execution_count": 17,
     "metadata": {},
     "output_type": "execute_result"
    }
   ],
   "source": [
    "Ne_corr=pf.calculate_Ne_corr_std_err_values(pickle_str='polyfit_data.pkl', \n",
    "    new_x=df_combo['sec since midnight'], CI=0.67)\n",
    "Ne_corr.head()\n"
   ]
  },
  {
   "cell_type": "code",
   "execution_count": 18,
   "id": "9e07a032-4a70-42f9-a291-7ce1f3ed3839",
   "metadata": {},
   "outputs": [],
   "source": [
    "\n",
    "split_err=pf.propagate_errors_for_splitting(Ne_corr, df_combo)\n",
    "df_combo_out=df_combo.copy()\n",
    "df_combo_out.insert(1, 'Corrected_Splitting', df_combo['Splitting']*Ne_corr['preferred_values'])\n",
    "df_combo_out.insert(2, 'Corr_Split+1σ', df_combo_out['Corrected_Splitting']+split_err)\n",
    "df_combo_out.insert(3, 'Corr_Split-1σ',df_combo_out['Corrected_Splitting']-split_err)\n",
    "df_combo_out.insert(4, 'Corr_Split_1σ_val', split_err)\n",
    "\n",
    "nm=os.path.basename(DayFolder)\n",
    "df_combo_out.to_excel(output_path+'/'+nm+'_FI_fitting.xlsx')"
   ]
  },
  {
   "attachments": {},
   "cell_type": "markdown",
   "id": "54b229a4-026d-4e4e-ab0a-ed0362566919",
   "metadata": {},
   "source": [
    "## If you have secondary phases, now is the time to merge those in"
   ]
  },
  {
   "cell_type": "code",
   "execution_count": 19,
   "id": "bc38474f-45cd-4fa5-beef-49db69e82989",
   "metadata": {},
   "outputs": [
    {
     "data": {
      "text/html": [
       "<div>\n",
       "<style scoped>\n",
       "    .dataframe tbody tr th:only-of-type {\n",
       "        vertical-align: middle;\n",
       "    }\n",
       "\n",
       "    .dataframe tbody tr th {\n",
       "        vertical-align: top;\n",
       "    }\n",
       "\n",
       "    .dataframe thead th {\n",
       "        text-align: right;\n",
       "    }\n",
       "</style>\n",
       "<table border=\"1\" class=\"dataframe\">\n",
       "  <thead>\n",
       "    <tr style=\"text-align: right;\">\n",
       "      <th></th>\n",
       "      <th>filename</th>\n",
       "      <th>Peak_Cent_SO2</th>\n",
       "      <th>Peak_Area_SO2</th>\n",
       "      <th>Peak_Height_SO2</th>\n",
       "      <th>Model_name_x</th>\n",
       "      <th>Peak_Cent_Carb</th>\n",
       "      <th>Peak_Area_Carb</th>\n",
       "      <th>Peak_Height_Carb</th>\n",
       "      <th>Model_name_y</th>\n",
       "    </tr>\n",
       "  </thead>\n",
       "  <tbody>\n",
       "    <tr>\n",
       "      <th>0</th>\n",
       "      <td>K21-71-FI#1-12mwx1.txt</td>\n",
       "      <td>1151.035056</td>\n",
       "      <td>187.188918</td>\n",
       "      <td>118.126661</td>\n",
       "      <td>Spline</td>\n",
       "      <td>NaN</td>\n",
       "      <td>NaN</td>\n",
       "      <td>NaN</td>\n",
       "      <td>NaN</td>\n",
       "    </tr>\n",
       "    <tr>\n",
       "      <th>1</th>\n",
       "      <td>K21-71-FI#1-12mwx2.txt</td>\n",
       "      <td>1151.153045</td>\n",
       "      <td>122.623278</td>\n",
       "      <td>83.250213</td>\n",
       "      <td>Spline</td>\n",
       "      <td>NaN</td>\n",
       "      <td>NaN</td>\n",
       "      <td>NaN</td>\n",
       "      <td>NaN</td>\n",
       "    </tr>\n",
       "    <tr>\n",
       "      <th>2</th>\n",
       "      <td>K21-71-FI#1-12mwx3.txt</td>\n",
       "      <td>1151.094050</td>\n",
       "      <td>71.521268</td>\n",
       "      <td>50.960985</td>\n",
       "      <td>Spline</td>\n",
       "      <td>NaN</td>\n",
       "      <td>NaN</td>\n",
       "      <td>NaN</td>\n",
       "      <td>NaN</td>\n",
       "    </tr>\n",
       "    <tr>\n",
       "      <th>3</th>\n",
       "      <td>K21-71-FI#1-6mwx1.txt</td>\n",
       "      <td>1151.153045</td>\n",
       "      <td>74.554449</td>\n",
       "      <td>58.661018</td>\n",
       "      <td>Spline</td>\n",
       "      <td>NaN</td>\n",
       "      <td>NaN</td>\n",
       "      <td>NaN</td>\n",
       "      <td>NaN</td>\n",
       "    </tr>\n",
       "    <tr>\n",
       "      <th>4</th>\n",
       "      <td>K21-71-FI#1-6mwx2.txt</td>\n",
       "      <td>1151.094050</td>\n",
       "      <td>79.295729</td>\n",
       "      <td>56.970757</td>\n",
       "      <td>Spline</td>\n",
       "      <td>NaN</td>\n",
       "      <td>NaN</td>\n",
       "      <td>NaN</td>\n",
       "      <td>NaN</td>\n",
       "    </tr>\n",
       "  </tbody>\n",
       "</table>\n",
       "</div>"
      ],
      "text/plain": [
       "                 filename  Peak_Cent_SO2  Peak_Area_SO2  Peak_Height_SO2  \\\n",
       "0  K21-71-FI#1-12mwx1.txt    1151.035056     187.188918       118.126661   \n",
       "1  K21-71-FI#1-12mwx2.txt    1151.153045     122.623278        83.250213   \n",
       "2  K21-71-FI#1-12mwx3.txt    1151.094050      71.521268        50.960985   \n",
       "3   K21-71-FI#1-6mwx1.txt    1151.153045      74.554449        58.661018   \n",
       "4   K21-71-FI#1-6mwx2.txt    1151.094050      79.295729        56.970757   \n",
       "\n",
       "  Model_name_x  Peak_Cent_Carb  Peak_Area_Carb  Peak_Height_Carb Model_name_y  \n",
       "0       Spline             NaN             NaN               NaN          NaN  \n",
       "1       Spline             NaN             NaN               NaN          NaN  \n",
       "2       Spline             NaN             NaN               NaN          NaN  \n",
       "3       Spline             NaN             NaN               NaN          NaN  \n",
       "4       Spline             NaN             NaN               NaN          NaN  "
      ]
     },
     "execution_count": 19,
     "metadata": {},
     "output_type": "execute_result"
    }
   ],
   "source": [
    "if path.exists('Carb_Peak_fits.xlsx'):\n",
    "    Carb=pd.read_excel('Carb_Peak_fits.xlsx')\n",
    "else:\n",
    "    Carb=None\n",
    "if path.exists('SO2_Peak_fits.xlsx'):\n",
    "    SO2=pd.read_excel('SO2_Peak_fits.xlsx')\n",
    "else:\n",
    "    SO2=None\n",
    "if SO2 is not None and Carb is not None:\n",
    "    Sec_Phases=pd.merge(SO2, Carb, on='filename', how='outer')\n",
    "elif SO2 is not None and Carb is None:\n",
    "    Sec_Phases=SO2\n",
    "elif SO2 is None and Carb is not None:\n",
    "    Sec_Phases=Carb\n",
    "else:\n",
    "    Sec_Phases=None\n",
    "Sec_Phases.head()"
   ]
  },
  {
   "cell_type": "code",
   "execution_count": 20,
   "id": "e8c12b56-b12d-4331-b45c-a204526e502a",
   "metadata": {},
   "outputs": [
    {
     "name": "stdout",
     "output_type": "stream",
     "text": [
      "good job, no duplicate file names\n"
     ]
    }
   ],
   "source": [
    "# Remove these to get the pure file name\n",
    "if Sec_Phases is not None:\n",
    "    file_sec_phase=pf.extracting_filenames_generic(\n",
    "        prefix=False, str_prefix=\" \",\n",
    "        names=Sec_Phases['filename'].reset_index(drop=True),\n",
    "       file_type='.txt')\n",
    "\n",
    "    file_sec_phase"
   ]
  },
  {
   "cell_type": "code",
   "execution_count": 21,
   "id": "ff6b1419-fa62-443b-95f1-78299d7d5656",
   "metadata": {},
   "outputs": [
    {
     "data": {
      "text/plain": [
       "array(['K21-71-FI#1-12mwx1', 'K21-71-FI#1-12mwx2', 'K21-71-FI#1-12mwx3',\n",
       "       'K21-71-FI#1-6mwx1', 'K21-71-FI#1-6mwx2', 'K21-71-FI#1-6mwx3',\n",
       "       'K21-75-FI#1', 'K21-77-FI#1'], dtype=object)"
      ]
     },
     "execution_count": 21,
     "metadata": {},
     "output_type": "execute_result"
    }
   ],
   "source": [
    "file_sec_phase"
   ]
  },
  {
   "cell_type": "code",
   "execution_count": 22,
   "id": "56bacae4-1061-42b5-822a-4a58312a8c22",
   "metadata": {},
   "outputs": [
    {
     "data": {
      "text/plain": [
       "0     K21-71-FI#1-12mwx3\n",
       "1      K21-71-FI#1-6mwx1\n",
       "2      K21-71-FI#1-6mwx2\n",
       "3      K21-71-FI#1-6mwx3\n",
       "4            K21-72-FI#1\n",
       "5            K21-72-FI#2\n",
       "6            K21-73-FI#2\n",
       "7            K21-74-FI#1\n",
       "8            K21-74-FI#2\n",
       "9            K21-74-FI#3\n",
       "10           K21-74-FI#4\n",
       "11           K21-74-FI#5\n",
       "12       K21-74-FI#5rep2\n",
       "13           K21-74-FI#6\n",
       "14           K21-75-FI#1\n",
       "15       K21-75-FI#2 (1)\n",
       "16           K21-75-FI#2\n",
       "17           K21-75-FI#3\n",
       "18           K21-77-FI#1\n",
       "19          K21-78b-FI#2\n",
       "20          K21-78b-FI#3\n",
       "21          K21-78b-FI#4\n",
       "22          K21-78b-FI#5\n",
       "23    K21-71-FI#1-12mwx1\n",
       "24    K21-71-FI#1-12mwx2\n",
       "25       K21-75-FI#1 (1)\n",
       "Name: name_for_matching, dtype: object"
      ]
     },
     "execution_count": 22,
     "metadata": {},
     "output_type": "execute_result"
    }
   ],
   "source": [
    "df_combo['name_for_matching']"
   ]
  },
  {
   "cell_type": "code",
   "execution_count": 23,
   "id": "f09b738b-d075-4f6a-b033-c19e7afd5e26",
   "metadata": {},
   "outputs": [],
   "source": [
    "df_combo['name_for_matching']=df_combo['Name_for_Secondary_Phases']\n",
    "\n",
    "if Sec_Phases is not None:\n",
    "    Sec_Phases['name_for_matching']=file_sec_phase\n",
    "    df_combo_sec_phase=df_combo_out.merge(Sec_Phases, \n",
    "    on='name_for_matching', how='outer')\n",
    "    \n",
    "else:\n",
    "    df_combo_sec_phase=df_combo_out"
   ]
  },
  {
   "attachments": {},
   "cell_type": "markdown",
   "id": "299ea007-e39d-4ff7-8970-ccfbf9d5040c",
   "metadata": {},
   "source": [
    "### Add some more useful columns"
   ]
  },
  {
   "cell_type": "code",
   "execution_count": 24,
   "id": "97111939-e39c-43ce-8ea3-6bb9cd5d150d",
   "metadata": {},
   "outputs": [
    {
     "data": {
      "text/html": [
       "<div>\n",
       "<style scoped>\n",
       "    .dataframe tbody tr th:only-of-type {\n",
       "        vertical-align: middle;\n",
       "    }\n",
       "\n",
       "    .dataframe tbody tr th {\n",
       "        vertical-align: top;\n",
       "    }\n",
       "\n",
       "    .dataframe thead th {\n",
       "        text-align: right;\n",
       "    }\n",
       "</style>\n",
       "<table border=\"1\" class=\"dataframe\">\n",
       "  <thead>\n",
       "    <tr style=\"text-align: right;\">\n",
       "      <th></th>\n",
       "      <th>Unnamed: 0</th>\n",
       "      <th>Corrected_Splitting</th>\n",
       "      <th>Corr_Split+1σ</th>\n",
       "      <th>Corr_Split-1σ</th>\n",
       "      <th>Corr_Split_1σ_val</th>\n",
       "      <th>filename_x</th>\n",
       "      <th>Splitting</th>\n",
       "      <th>Split_err_abs</th>\n",
       "      <th>Split_err_quadrature</th>\n",
       "      <th>Diad1_Combofit_Cent</th>\n",
       "      <th>...</th>\n",
       "      <th>Peak_Cent_SO2</th>\n",
       "      <th>Peak_Area_SO2</th>\n",
       "      <th>Peak_Height_SO2</th>\n",
       "      <th>Model_name_x</th>\n",
       "      <th>Peak_Cent_Carb</th>\n",
       "      <th>Peak_Area_Carb</th>\n",
       "      <th>Peak_Height_Carb</th>\n",
       "      <th>Model_name_y</th>\n",
       "      <th>Carb_Diad_Ratio</th>\n",
       "      <th>SO2_Diad_Ratio</th>\n",
       "    </tr>\n",
       "  </thead>\n",
       "  <tbody>\n",
       "    <tr>\n",
       "      <th>0</th>\n",
       "      <td>0</td>\n",
       "      <td>103.084879</td>\n",
       "      <td>103.093980</td>\n",
       "      <td>103.075778</td>\n",
       "      <td>0.009101</td>\n",
       "      <td>K21-71-FI#1-12mwx3</td>\n",
       "      <td>103.293712</td>\n",
       "      <td>0.012129</td>\n",
       "      <td>0.009098</td>\n",
       "      <td>1285.683789</td>\n",
       "      <td>...</td>\n",
       "      <td>1151.094050</td>\n",
       "      <td>71.521268</td>\n",
       "      <td>50.960985</td>\n",
       "      <td>Spline</td>\n",
       "      <td>NaN</td>\n",
       "      <td>NaN</td>\n",
       "      <td>NaN</td>\n",
       "      <td>NaN</td>\n",
       "      <td>NaN</td>\n",
       "      <td>0.023812</td>\n",
       "    </tr>\n",
       "    <tr>\n",
       "      <th>1</th>\n",
       "      <td>0</td>\n",
       "      <td>103.111124</td>\n",
       "      <td>103.114560</td>\n",
       "      <td>103.107688</td>\n",
       "      <td>0.003436</td>\n",
       "      <td>K21-71-FI#1-6mwx1</td>\n",
       "      <td>103.318938</td>\n",
       "      <td>0.003384</td>\n",
       "      <td>0.003384</td>\n",
       "      <td>1285.618420</td>\n",
       "      <td>...</td>\n",
       "      <td>1151.153045</td>\n",
       "      <td>74.554449</td>\n",
       "      <td>58.661018</td>\n",
       "      <td>Spline</td>\n",
       "      <td>NaN</td>\n",
       "      <td>NaN</td>\n",
       "      <td>NaN</td>\n",
       "      <td>NaN</td>\n",
       "      <td>NaN</td>\n",
       "      <td>0.026495</td>\n",
       "    </tr>\n",
       "    <tr>\n",
       "      <th>2</th>\n",
       "      <td>0</td>\n",
       "      <td>103.110887</td>\n",
       "      <td>103.117560</td>\n",
       "      <td>103.104214</td>\n",
       "      <td>0.006673</td>\n",
       "      <td>K21-71-FI#1-6mwx2</td>\n",
       "      <td>103.318954</td>\n",
       "      <td>0.009116</td>\n",
       "      <td>0.006657</td>\n",
       "      <td>1285.627372</td>\n",
       "      <td>...</td>\n",
       "      <td>1151.094050</td>\n",
       "      <td>79.295729</td>\n",
       "      <td>56.970757</td>\n",
       "      <td>Spline</td>\n",
       "      <td>NaN</td>\n",
       "      <td>NaN</td>\n",
       "      <td>NaN</td>\n",
       "      <td>NaN</td>\n",
       "      <td>NaN</td>\n",
       "      <td>0.028287</td>\n",
       "    </tr>\n",
       "    <tr>\n",
       "      <th>3</th>\n",
       "      <td>0</td>\n",
       "      <td>103.099708</td>\n",
       "      <td>103.103648</td>\n",
       "      <td>103.095768</td>\n",
       "      <td>0.003940</td>\n",
       "      <td>K21-71-FI#1-6mwx3_CRR_DiadFit</td>\n",
       "      <td>103.308020</td>\n",
       "      <td>0.005271</td>\n",
       "      <td>0.003897</td>\n",
       "      <td>1285.637851</td>\n",
       "      <td>...</td>\n",
       "      <td>1151.005558</td>\n",
       "      <td>79.734515</td>\n",
       "      <td>47.758407</td>\n",
       "      <td>Spline</td>\n",
       "      <td>NaN</td>\n",
       "      <td>NaN</td>\n",
       "      <td>NaN</td>\n",
       "      <td>NaN</td>\n",
       "      <td>NaN</td>\n",
       "      <td>0.031542</td>\n",
       "    </tr>\n",
       "    <tr>\n",
       "      <th>4</th>\n",
       "      <td>0</td>\n",
       "      <td>102.785420</td>\n",
       "      <td>102.821532</td>\n",
       "      <td>102.749309</td>\n",
       "      <td>0.036111</td>\n",
       "      <td>K21-72-FI#1</td>\n",
       "      <td>102.995137</td>\n",
       "      <td>0.049546</td>\n",
       "      <td>0.036180</td>\n",
       "      <td>1286.494784</td>\n",
       "      <td>...</td>\n",
       "      <td>NaN</td>\n",
       "      <td>NaN</td>\n",
       "      <td>NaN</td>\n",
       "      <td>NaN</td>\n",
       "      <td>NaN</td>\n",
       "      <td>NaN</td>\n",
       "      <td>NaN</td>\n",
       "      <td>NaN</td>\n",
       "      <td>NaN</td>\n",
       "      <td>NaN</td>\n",
       "    </tr>\n",
       "  </tbody>\n",
       "</table>\n",
       "<p>5 rows × 70 columns</p>\n",
       "</div>"
      ],
      "text/plain": [
       "  Unnamed: 0  Corrected_Splitting  Corr_Split+1σ  Corr_Split-1σ  \\\n",
       "0          0           103.084879     103.093980     103.075778   \n",
       "1          0           103.111124     103.114560     103.107688   \n",
       "2          0           103.110887     103.117560     103.104214   \n",
       "3          0           103.099708     103.103648     103.095768   \n",
       "4          0           102.785420     102.821532     102.749309   \n",
       "\n",
       "   Corr_Split_1σ_val                     filename_x   Splitting  \\\n",
       "0           0.009101             K21-71-FI#1-12mwx3  103.293712   \n",
       "1           0.003436              K21-71-FI#1-6mwx1  103.318938   \n",
       "2           0.006673              K21-71-FI#1-6mwx2  103.318954   \n",
       "3           0.003940  K21-71-FI#1-6mwx3_CRR_DiadFit  103.308020   \n",
       "4           0.036111                    K21-72-FI#1  102.995137   \n",
       "\n",
       "   Split_err_abs  Split_err_quadrature  Diad1_Combofit_Cent  ...  \\\n",
       "0       0.012129              0.009098          1285.683789  ...   \n",
       "1       0.003384              0.003384          1285.618420  ...   \n",
       "2       0.009116              0.006657          1285.627372  ...   \n",
       "3       0.005271              0.003897          1285.637851  ...   \n",
       "4       0.049546              0.036180          1286.494784  ...   \n",
       "\n",
       "   Peak_Cent_SO2  Peak_Area_SO2  Peak_Height_SO2  Model_name_x  \\\n",
       "0    1151.094050      71.521268        50.960985        Spline   \n",
       "1    1151.153045      74.554449        58.661018        Spline   \n",
       "2    1151.094050      79.295729        56.970757        Spline   \n",
       "3    1151.005558      79.734515        47.758407        Spline   \n",
       "4            NaN            NaN              NaN           NaN   \n",
       "\n",
       "   Peak_Cent_Carb  Peak_Area_Carb  Peak_Height_Carb  Model_name_y  \\\n",
       "0             NaN             NaN               NaN           NaN   \n",
       "1             NaN             NaN               NaN           NaN   \n",
       "2             NaN             NaN               NaN           NaN   \n",
       "3             NaN             NaN               NaN           NaN   \n",
       "4             NaN             NaN               NaN           NaN   \n",
       "\n",
       "  Carb_Diad_Ratio  SO2_Diad_Ratio  \n",
       "0             NaN        0.023812  \n",
       "1             NaN        0.026495  \n",
       "2             NaN        0.028287  \n",
       "3             NaN        0.031542  \n",
       "4             NaN             NaN  \n",
       "\n",
       "[5 rows x 70 columns]"
      ]
     },
     "execution_count": 24,
     "metadata": {},
     "output_type": "execute_result"
    }
   ],
   "source": [
    "if 'Peak_Area_Carb' in df_combo_sec_phase.columns:\n",
    "    df_combo_sec_phase['Carb_Diad_Ratio']=(df_combo_sec_phase['Peak_Area_Carb']/(df_combo_sec_phase['Diad1_Voigt_Area']\n",
    "                      +df_combo_sec_phase['Diad2_Voigt_Area']))\n",
    "if 'Peak_Area_SO2' in df_combo_sec_phase.columns:\n",
    "    df_combo_sec_phase['SO2_Diad_Ratio']=(df_combo_sec_phase['Peak_Area_SO2']/(df_combo_sec_phase['Diad1_Voigt_Area']\n",
    "                      +df_combo_sec_phase['Diad2_Voigt_Area']))\n",
    "    \n",
    "df_combo_sec_phase.head()"
   ]
  },
  {
   "cell_type": "code",
   "execution_count": 25,
   "id": "9e5cffde-1b26-4aaf-b1c0-eb081c766242",
   "metadata": {},
   "outputs": [],
   "source": [
    "df_combo_sec_phase.to_excel(output_path+'/'+nm+'_FI_fitting_w_sec_phases.xlsx')"
   ]
  },
  {
   "cell_type": "code",
   "execution_count": 26,
   "id": "ba856608",
   "metadata": {},
   "outputs": [],
   "source": [
    "from winotify import Notification, audio\n",
    "\n",
    "toast= Notification(app_id=\"VSCode\",title=\"Notebook completed\",\n",
    "                    msg=\"Step4_Stitch_Outputs_Together is done!\",\n",
    "                    duration=\"short\")\n",
    "toast.set_audio(audio.Mail,loop=False)\n",
    "toast.show()"
   ]
  },
  {
   "cell_type": "code",
   "execution_count": null,
   "id": "4819c90e",
   "metadata": {},
   "outputs": [],
   "source": []
  },
  {
   "cell_type": "code",
   "execution_count": null,
   "id": "9a3d200d",
   "metadata": {},
   "outputs": [],
   "source": []
  },
  {
   "cell_type": "code",
   "execution_count": null,
   "id": "9bbfe0f9",
   "metadata": {},
   "outputs": [],
   "source": []
  }
 ],
 "metadata": {
  "kernelspec": {
   "display_name": "Python 3 (ipykernel)",
   "language": "python",
   "name": "python3"
  },
  "language_info": {
   "codemirror_mode": {
    "name": "ipython",
    "version": 3
   },
   "file_extension": ".py",
   "mimetype": "text/x-python",
   "name": "python",
   "nbconvert_exporter": "python",
   "pygments_lexer": "ipython3",
   "version": "3.9.16"
  }
 },
 "nbformat": 4,
 "nbformat_minor": 5
}
