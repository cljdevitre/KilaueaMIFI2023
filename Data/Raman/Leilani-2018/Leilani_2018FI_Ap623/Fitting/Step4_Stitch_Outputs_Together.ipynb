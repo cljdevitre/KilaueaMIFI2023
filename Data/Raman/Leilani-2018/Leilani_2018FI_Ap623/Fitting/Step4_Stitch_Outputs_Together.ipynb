{
 "cells": [
  {
   "attachments": {},
   "cell_type": "markdown",
   "id": "0a5d30ae-095e-4406-aff7-a817c2603e2c",
   "metadata": {},
   "source": [
    "# 4. Stitch outputs together\n",
    "- Once you have fitted the weak, medium and dense diads, stitch them all together, and apply the Ne correction model"
   ]
  },
  {
   "cell_type": "code",
   "execution_count": 1,
   "id": "56f8c066-4754-4d3e-9217-ae9e8f792016",
   "metadata": {},
   "outputs": [
    {
     "data": {
      "text/plain": [
       "'0.0.59'"
      ]
     },
     "execution_count": 1,
     "metadata": {},
     "output_type": "execute_result"
    }
   ],
   "source": [
    "import numpy as np\n",
    "import pandas as pd\n",
    "import matplotlib.pyplot as plt\n",
    "import joblib\n",
    "import os\n",
    "from pickle import load\n",
    "import pickle\n",
    "import DiadFit as pf\n",
    "pf.__version__"
   ]
  },
  {
   "cell_type": "code",
   "execution_count": 2,
   "id": "cab54670-2019-40be-b7d8-588189ac9ced",
   "metadata": {},
   "outputs": [],
   "source": [
    "MasterFolder = r\"P:\\WORK-GENERAL\\POSTDOC-UCB\\BERKELEY-VIBE\\Documents\\Projects\\Data\\Hawaii_FI\\Data\\Raman\\Leilani-2018\"\n",
    "DayFolder = os.path.join(MasterFolder, \"Leilani_2018FI_Ap623\")\n",
    "\n",
    "meta_path=DayFolder +  '\\Metadata'\n",
    "spectra_path=DayFolder + '\\Spectra'\n",
    "filetype='headless_txt'\n",
    "\n",
    "if not os.path.exists(MasterFolder + '\\OUTPUT'):\n",
    "    os.mkdir(MasterFolder +'\\OUTPUT')\n",
    "\n",
    "\n",
    "output_path=MasterFolder +'\\OUTPUT'\n"
   ]
  },
  {
   "attachments": {},
   "cell_type": "markdown",
   "id": "8230f033-6c2c-4494-a554-885ab21b2e21",
   "metadata": {},
   "source": [
    "## Load in specra, and combine"
   ]
  },
  {
   "cell_type": "code",
   "execution_count": 3,
   "id": "0b0bb450-0872-44f7-b99e-2585f994efde",
   "metadata": {},
   "outputs": [],
   "source": [
    "from os import path\n",
    "if path.exists('Discarded_df.xlsx'):\n",
    "    discard=pd.read_excel('Discarded_df.xlsx')\n",
    "else:\n",
    "    discard=None\n",
    "if path.exists('Weak_Diads.xlsx'):\n",
    "    grp1=pd.read_excel('Weak_Diads.xlsx')\n",
    "else:\n",
    "    grp1=None\n",
    "if path.exists('Medium_Diads.xlsx'):\n",
    "    grp2=pd.read_excel('Medium_Diads.xlsx')\n",
    "else:\n",
    "    grp2=None\n",
    "if path.exists('Strong_Diads.xlsx'):\n",
    "    grp3=pd.read_excel('Strong_Diads.xlsx')\n",
    "else:\n",
    "    grp3=None\n",
    "df2=pd.concat([grp1, grp2, grp3], axis=0)\n",
    "if discard is not None:\n",
    "    discard_cols=discard[discard.columns.intersection(df2.columns)]\n",
    "    df2=pd.concat([df2, discard_cols])"
   ]
  },
  {
   "cell_type": "code",
   "execution_count": 4,
   "id": "3a7ed038-f31a-41d8-9f30-c278103c56a6",
   "metadata": {},
   "outputs": [
    {
     "data": {
      "text/html": [
       "<div>\n",
       "<style scoped>\n",
       "    .dataframe tbody tr th:only-of-type {\n",
       "        vertical-align: middle;\n",
       "    }\n",
       "\n",
       "    .dataframe tbody tr th {\n",
       "        vertical-align: top;\n",
       "    }\n",
       "\n",
       "    .dataframe thead th {\n",
       "        text-align: right;\n",
       "    }\n",
       "</style>\n",
       "<table border=\"1\" class=\"dataframe\">\n",
       "  <thead>\n",
       "    <tr style=\"text-align: right;\">\n",
       "      <th></th>\n",
       "      <th>Unnamed: 0</th>\n",
       "      <th>filename</th>\n",
       "      <th>Splitting</th>\n",
       "      <th>Split_err_abs</th>\n",
       "      <th>Split_err_quadrature</th>\n",
       "      <th>Diad1_Combofit_Cent</th>\n",
       "      <th>Diad1_cent_err</th>\n",
       "      <th>Diad1_Combofit_Height</th>\n",
       "      <th>Diad1_Voigt_Cent</th>\n",
       "      <th>Diad1_Voigt_Area</th>\n",
       "      <th>...</th>\n",
       "      <th>HB2_Sigma</th>\n",
       "      <th>C13_Cent</th>\n",
       "      <th>C13_Area</th>\n",
       "      <th>C13_Sigma</th>\n",
       "      <th>Diad2_Gauss_Cent</th>\n",
       "      <th>Diad2_Gauss_Area</th>\n",
       "      <th>Diad2_Gauss_Sigma</th>\n",
       "      <th>Diad1_Gauss_Cent</th>\n",
       "      <th>Diad1_Gauss_Area</th>\n",
       "      <th>Diad1_Gauss_Sigma</th>\n",
       "    </tr>\n",
       "  </thead>\n",
       "  <tbody>\n",
       "    <tr>\n",
       "      <th>0</th>\n",
       "      <td>0</td>\n",
       "      <td>LL1_275-FI#2-R2_CRR_DiadFit</td>\n",
       "      <td>103.294890</td>\n",
       "      <td>0.133473</td>\n",
       "      <td>0.096374</td>\n",
       "      <td>1285.690490</td>\n",
       "      <td>0.080530</td>\n",
       "      <td>49.014499</td>\n",
       "      <td>1285.690490</td>\n",
       "      <td>50.973451</td>\n",
       "      <td>...</td>\n",
       "      <td>NaN</td>\n",
       "      <td>NaN</td>\n",
       "      <td>NaN</td>\n",
       "      <td>NaN</td>\n",
       "      <td>NaN</td>\n",
       "      <td>NaN</td>\n",
       "      <td>NaN</td>\n",
       "      <td>NaN</td>\n",
       "      <td>NaN</td>\n",
       "      <td>NaN</td>\n",
       "    </tr>\n",
       "    <tr>\n",
       "      <th>1</th>\n",
       "      <td>0</td>\n",
       "      <td>LL1_275-FI#2-R3_CRR_DiadFit</td>\n",
       "      <td>103.188372</td>\n",
       "      <td>0.037022</td>\n",
       "      <td>0.026692</td>\n",
       "      <td>1285.834584</td>\n",
       "      <td>0.022195</td>\n",
       "      <td>128.202572</td>\n",
       "      <td>1285.834584</td>\n",
       "      <td>144.833070</td>\n",
       "      <td>...</td>\n",
       "      <td>NaN</td>\n",
       "      <td>NaN</td>\n",
       "      <td>NaN</td>\n",
       "      <td>NaN</td>\n",
       "      <td>NaN</td>\n",
       "      <td>NaN</td>\n",
       "      <td>NaN</td>\n",
       "      <td>NaN</td>\n",
       "      <td>NaN</td>\n",
       "      <td>NaN</td>\n",
       "    </tr>\n",
       "    <tr>\n",
       "      <th>2</th>\n",
       "      <td>0</td>\n",
       "      <td>LL1_275-FI#2-R4_CRR_DiadFit</td>\n",
       "      <td>103.204924</td>\n",
       "      <td>0.009848</td>\n",
       "      <td>0.009848</td>\n",
       "      <td>1285.782739</td>\n",
       "      <td>0.000000</td>\n",
       "      <td>146.530132</td>\n",
       "      <td>1285.782739</td>\n",
       "      <td>182.468185</td>\n",
       "      <td>...</td>\n",
       "      <td>NaN</td>\n",
       "      <td>NaN</td>\n",
       "      <td>NaN</td>\n",
       "      <td>NaN</td>\n",
       "      <td>NaN</td>\n",
       "      <td>NaN</td>\n",
       "      <td>NaN</td>\n",
       "      <td>NaN</td>\n",
       "      <td>NaN</td>\n",
       "      <td>NaN</td>\n",
       "    </tr>\n",
       "    <tr>\n",
       "      <th>3</th>\n",
       "      <td>0</td>\n",
       "      <td>LL1_275-FI#3-R1_CRR_DiadFit</td>\n",
       "      <td>103.138565</td>\n",
       "      <td>0.058238</td>\n",
       "      <td>0.042143</td>\n",
       "      <td>1286.072148</td>\n",
       "      <td>0.035450</td>\n",
       "      <td>30.191312</td>\n",
       "      <td>1286.072148</td>\n",
       "      <td>31.069261</td>\n",
       "      <td>...</td>\n",
       "      <td>NaN</td>\n",
       "      <td>NaN</td>\n",
       "      <td>NaN</td>\n",
       "      <td>NaN</td>\n",
       "      <td>NaN</td>\n",
       "      <td>NaN</td>\n",
       "      <td>NaN</td>\n",
       "      <td>NaN</td>\n",
       "      <td>NaN</td>\n",
       "      <td>NaN</td>\n",
       "    </tr>\n",
       "    <tr>\n",
       "      <th>4</th>\n",
       "      <td>0</td>\n",
       "      <td>LL1_275-FI#3-R2_CRR_DiadFit</td>\n",
       "      <td>103.049046</td>\n",
       "      <td>0.017057</td>\n",
       "      <td>0.017057</td>\n",
       "      <td>1286.160574</td>\n",
       "      <td>0.000000</td>\n",
       "      <td>57.618504</td>\n",
       "      <td>1286.160574</td>\n",
       "      <td>64.479381</td>\n",
       "      <td>...</td>\n",
       "      <td>NaN</td>\n",
       "      <td>NaN</td>\n",
       "      <td>NaN</td>\n",
       "      <td>NaN</td>\n",
       "      <td>NaN</td>\n",
       "      <td>NaN</td>\n",
       "      <td>NaN</td>\n",
       "      <td>NaN</td>\n",
       "      <td>NaN</td>\n",
       "      <td>NaN</td>\n",
       "    </tr>\n",
       "  </tbody>\n",
       "</table>\n",
       "<p>5 rows × 41 columns</p>\n",
       "</div>"
      ],
      "text/plain": [
       "  Unnamed: 0                     filename   Splitting  Split_err_abs  \\\n",
       "0          0  LL1_275-FI#2-R2_CRR_DiadFit  103.294890       0.133473   \n",
       "1          0  LL1_275-FI#2-R3_CRR_DiadFit  103.188372       0.037022   \n",
       "2          0  LL1_275-FI#2-R4_CRR_DiadFit  103.204924       0.009848   \n",
       "3          0  LL1_275-FI#3-R1_CRR_DiadFit  103.138565       0.058238   \n",
       "4          0  LL1_275-FI#3-R2_CRR_DiadFit  103.049046       0.017057   \n",
       "\n",
       "   Split_err_quadrature  Diad1_Combofit_Cent  Diad1_cent_err  \\\n",
       "0              0.096374          1285.690490        0.080530   \n",
       "1              0.026692          1285.834584        0.022195   \n",
       "2              0.009848          1285.782739        0.000000   \n",
       "3              0.042143          1286.072148        0.035450   \n",
       "4              0.017057          1286.160574        0.000000   \n",
       "\n",
       "   Diad1_Combofit_Height  Diad1_Voigt_Cent  Diad1_Voigt_Area  ...  HB2_Sigma  \\\n",
       "0              49.014499       1285.690490         50.973451  ...        NaN   \n",
       "1             128.202572       1285.834584        144.833070  ...        NaN   \n",
       "2             146.530132       1285.782739        182.468185  ...        NaN   \n",
       "3              30.191312       1286.072148         31.069261  ...        NaN   \n",
       "4              57.618504       1286.160574         64.479381  ...        NaN   \n",
       "\n",
       "   C13_Cent  C13_Area  C13_Sigma Diad2_Gauss_Cent  Diad2_Gauss_Area  \\\n",
       "0       NaN       NaN        NaN              NaN               NaN   \n",
       "1       NaN       NaN        NaN              NaN               NaN   \n",
       "2       NaN       NaN        NaN              NaN               NaN   \n",
       "3       NaN       NaN        NaN              NaN               NaN   \n",
       "4       NaN       NaN        NaN              NaN               NaN   \n",
       "\n",
       "   Diad2_Gauss_Sigma  Diad1_Gauss_Cent  Diad1_Gauss_Area  Diad1_Gauss_Sigma  \n",
       "0                NaN               NaN               NaN                NaN  \n",
       "1                NaN               NaN               NaN                NaN  \n",
       "2                NaN               NaN               NaN                NaN  \n",
       "3                NaN               NaN               NaN                NaN  \n",
       "4                NaN               NaN               NaN                NaN  \n",
       "\n",
       "[5 rows x 41 columns]"
      ]
     },
     "execution_count": 4,
     "metadata": {},
     "output_type": "execute_result"
    }
   ],
   "source": [
    "df2.head()"
   ]
  },
  {
   "attachments": {},
   "cell_type": "markdown",
   "id": "6449c9b4-d538-4d37-ad78-49c87aa677af",
   "metadata": {},
   "source": [
    "## First, get the metadata for this day"
   ]
  },
  {
   "cell_type": "code",
   "execution_count": 5,
   "id": "027e3ea1-f4ef-4c53-a57d-977e1f639ec9",
   "metadata": {},
   "outputs": [
    {
     "data": {
      "text/plain": [
       "['LL1_275-FI#2-R2.txt',\n",
       " 'LL1_275-FI#2-R3.txt',\n",
       " 'LL1_275-FI#2-R4.txt',\n",
       " 'LL1_275-FI#3-R1.txt',\n",
       " 'LL1_275-FI#3-R2.txt',\n",
       " 'LL4_2-FI#2.txt',\n",
       " 'LL8_156-FI#1-6mw-R1.txt',\n",
       " 'LL8_156-FI#1-6mw-R2.txt',\n",
       " 'LL8_156-FI#1-6mw-R3.txt',\n",
       " 'LL8_156-FI#2.txt',\n",
       " 'LL8_156-FI#4-12mw.txt',\n",
       " 'LL8_156-FI#4-6mw-R1.txt',\n",
       " 'LL8_156-FI#4-6mw-R2.txt',\n",
       " 'LL8_156-FI#4-6mw-R3.txt',\n",
       " 'LL8_156-FI#6-12mw-R1.txt',\n",
       " 'LL8_156-FI#6-12mw-R2.txt',\n",
       " 'LL8_156-FI#6-12mw-R3.txt',\n",
       " 'LL8_156-FI#6-6mw.txt',\n",
       " 'LL8_243-FI#2-12mw-R1.txt',\n",
       " 'LL8_243-FI#2-12mw-R2.txt',\n",
       " 'LL8_243-FI#2-12mw-R3.txt',\n",
       " 'LL8_406-FI#4-12mw.txt',\n",
       " 'de (1).txt',\n",
       " 'de (2).txt',\n",
       " 'de (3).txt',\n",
       " 'de (4).txt',\n",
       " 'de (5).txt',\n",
       " 'de (6).txt',\n",
       " 'de (7).txt',\n",
       " 'de.txt']"
      ]
     },
     "execution_count": 5,
     "metadata": {},
     "output_type": "execute_result"
    }
   ],
   "source": [
    "# Put the common string you can in all your Ne lines here\n",
    "ID_str='_'\n",
    "file_ext_meta='txt' # Will only take files of this type \n",
    "diad_meta=pf.get_files(path=meta_path,\n",
    "file_ext='txt', exclude_str=['N', 'Si', 'series','IMG','Cap','window','nodiad'],\n",
    " sort=True)\n",
    "diad_meta"
   ]
  },
  {
   "attachments": {},
   "cell_type": "markdown",
   "id": "378575ca-336b-4f04-bc6e-cf397dfdc56e",
   "metadata": {},
   "source": [
    "## Now get all the important information out of the metadata files"
   ]
  },
  {
   "cell_type": "code",
   "execution_count": 6,
   "id": "57ebb7b9-5c4f-4b49-9686-36f0d2ec9e8d",
   "metadata": {},
   "outputs": [
    {
     "name": "stderr",
     "output_type": "stream",
     "text": [
      "100%|██████████| 30/30 [00:01<00:00, 17.69it/s]"
     ]
    },
    {
     "name": "stdout",
     "output_type": "stream",
     "text": [
      "Done\n"
     ]
    },
    {
     "name": "stderr",
     "output_type": "stream",
     "text": [
      "\n"
     ]
    },
    {
     "data": {
      "text/plain": [
       "'LL4_2-FI#2.txt'"
      ]
     },
     "execution_count": 6,
     "metadata": {},
     "output_type": "execute_result"
    }
   ],
   "source": [
    "meta=pf.stitch_metadata_in_loop_witec(path=meta_path, \n",
    "Allfiles=diad_meta, prefix=False,\n",
    "trupower=True)\n",
    "meta['filename'].iloc[0]"
   ]
  },
  {
   "attachments": {},
   "cell_type": "markdown",
   "id": "b7a6fbc0-2b4a-4f4b-8cfd-cc227047d833",
   "metadata": {},
   "source": [
    "## Then get a simple file name you can stitch with the spectra"
   ]
  },
  {
   "cell_type": "code",
   "execution_count": 7,
   "id": "ea140384-9cb9-41bf-b57e-eb16120afe12",
   "metadata": {},
   "outputs": [
    {
     "name": "stdout",
     "output_type": "stream",
     "text": [
      "good job, no duplicate file names\n"
     ]
    },
    {
     "data": {
      "text/plain": [
       "'LL4_2-FI#2'"
      ]
     },
     "execution_count": 7,
     "metadata": {},
     "output_type": "execute_result"
    }
   ],
   "source": [
    "file_m=pf.extracting_filenames_generic(names=meta['filename'],\n",
    "    prefix=False, str_prefix=\" \",\n",
    "   file_type='.txt')\n",
    "# Checks they are all unique\n",
    "file_m[0]"
   ]
  },
  {
   "attachments": {},
   "cell_type": "markdown",
   "id": "80671930-57b4-476b-aec2-0aaf23f072b5",
   "metadata": {},
   "source": [
    "## Now get filename from spectra into same form as metadata"
   ]
  },
  {
   "cell_type": "code",
   "execution_count": 8,
   "id": "5f50eae0-1a22-4d35-ba87-0d853343d859",
   "metadata": {},
   "outputs": [
    {
     "name": "stdout",
     "output_type": "stream",
     "text": [
      "good job, no duplicate file names\n"
     ]
    }
   ],
   "source": [
    "# Remove these to get the pure file name\n",
    "file_s=pf.extracting_filenames_generic(\n",
    "    prefix=False, str_prefix=\" \",\n",
    "    names=df2['filename'].reset_index(drop=True),\n",
    "   file_type='.txt')\n",
    "\n",
    "# Remove the cosmic rays, as doesnt have it in the metatdata\n",
    "file_s = np.char.replace(file_s.astype(str), \"_CRR_DiadFit\", \"\")"
   ]
  },
  {
   "cell_type": "code",
   "execution_count": 9,
   "id": "c53ee945-9b20-473d-9cef-4cfe427ad368",
   "metadata": {},
   "outputs": [
    {
     "data": {
      "text/plain": [
       "array(['LL1_275-FI#2-R2', 'LL1_275-FI#2-R3', 'LL1_275-FI#2-R4',\n",
       "       'LL1_275-FI#3-R1', 'LL1_275-FI#3-R2', 'LL4_2-FI#2',\n",
       "       'LL8_156-FI#1-6mw-R1', 'LL8_156-FI#1-6mw-R2',\n",
       "       'LL8_156-FI#1-6mw-R3', 'LL8_156-FI#2', 'LL8_156-FI#4-6mw-R1',\n",
       "       'LL8_156-FI#4-6mw-R2', 'LL8_156-FI#4-6mw-R3',\n",
       "       'LL8_156-FI#6-12mw-R1', 'LL8_156-FI#6-12mw-R2',\n",
       "       'LL8_156-FI#6-12mw-R3', 'LL8_156-FI#6-6mw', 'LL8_243-FI#2-12mw-R1',\n",
       "       'LL8_243-FI#2-12mw-R2', 'LL8_243-FI#2-12mw-R3',\n",
       "       'LL8_406-FI#4-12mw', 'LL8_156-FI#4-12mw'], dtype='<U20')"
      ]
     },
     "execution_count": 9,
     "metadata": {},
     "output_type": "execute_result"
    }
   ],
   "source": [
    "file_s"
   ]
  },
  {
   "cell_type": "code",
   "execution_count": 10,
   "id": "51df3d2d-72d3-44fa-a076-b087cfdb5eef",
   "metadata": {},
   "outputs": [],
   "source": [
    "# Combining them together\n",
    "meta['name_for_matching']=file_m\n",
    "df2['name_for_matching']=file_s\n",
    "df2['Name_for_Secondary_Phases']=file_s\n",
    "df_combo=df2.merge(meta, on='name_for_matching')"
   ]
  },
  {
   "cell_type": "code",
   "execution_count": 11,
   "id": "524e4721-cc10-49c6-a262-e7795d5de57d",
   "metadata": {},
   "outputs": [
    {
     "name": "stdout",
     "output_type": "stream",
     "text": [
      "1\n"
     ]
    },
    {
     "data": {
      "text/html": [
       "<div>\n",
       "<style scoped>\n",
       "    .dataframe tbody tr th:only-of-type {\n",
       "        vertical-align: middle;\n",
       "    }\n",
       "\n",
       "    .dataframe tbody tr th {\n",
       "        vertical-align: top;\n",
       "    }\n",
       "\n",
       "    .dataframe thead th {\n",
       "        text-align: right;\n",
       "    }\n",
       "</style>\n",
       "<table border=\"1\" class=\"dataframe\">\n",
       "  <thead>\n",
       "    <tr style=\"text-align: right;\">\n",
       "      <th></th>\n",
       "      <th>time</th>\n",
       "      <th>preferred_values</th>\n",
       "      <th>lower_values</th>\n",
       "      <th>upper_values</th>\n",
       "    </tr>\n",
       "  </thead>\n",
       "  <tbody>\n",
       "    <tr>\n",
       "      <th>0</th>\n",
       "      <td>53484.0</td>\n",
       "      <td>0.997555</td>\n",
       "      <td>0.997543</td>\n",
       "      <td>0.997567</td>\n",
       "    </tr>\n",
       "    <tr>\n",
       "      <th>1</th>\n",
       "      <td>53637.0</td>\n",
       "      <td>0.997555</td>\n",
       "      <td>0.997543</td>\n",
       "      <td>0.997567</td>\n",
       "    </tr>\n",
       "    <tr>\n",
       "      <th>2</th>\n",
       "      <td>53858.0</td>\n",
       "      <td>0.997555</td>\n",
       "      <td>0.997542</td>\n",
       "      <td>0.997567</td>\n",
       "    </tr>\n",
       "    <tr>\n",
       "      <th>3</th>\n",
       "      <td>52813.0</td>\n",
       "      <td>0.997556</td>\n",
       "      <td>0.997543</td>\n",
       "      <td>0.997568</td>\n",
       "    </tr>\n",
       "    <tr>\n",
       "      <th>4</th>\n",
       "      <td>53064.0</td>\n",
       "      <td>0.997555</td>\n",
       "      <td>0.997543</td>\n",
       "      <td>0.997568</td>\n",
       "    </tr>\n",
       "  </tbody>\n",
       "</table>\n",
       "</div>"
      ],
      "text/plain": [
       "      time  preferred_values  lower_values  upper_values\n",
       "0  53484.0          0.997555      0.997543      0.997567\n",
       "1  53637.0          0.997555      0.997543      0.997567\n",
       "2  53858.0          0.997555      0.997542      0.997567\n",
       "3  52813.0          0.997556      0.997543      0.997568\n",
       "4  53064.0          0.997555      0.997543      0.997568"
      ]
     },
     "execution_count": 11,
     "metadata": {},
     "output_type": "execute_result"
    }
   ],
   "source": [
    "Ne_corr=pf.calculate_Ne_corr_std_err_values(pickle_str='polyfit_data.pkl', \n",
    "    new_x=df_combo['sec since midnight'], CI=0.67)\n",
    "Ne_corr.head()\n"
   ]
  },
  {
   "cell_type": "code",
   "execution_count": 12,
   "id": "9e07a032-4a70-42f9-a291-7ce1f3ed3839",
   "metadata": {},
   "outputs": [],
   "source": [
    "\n",
    "split_err=pf.propagate_errors_for_splitting(Ne_corr, df_combo)\n",
    "df_combo_out=df_combo.copy()\n",
    "df_combo_out.insert(1, 'Corrected_Splitting', df_combo['Splitting']*Ne_corr['preferred_values'])\n",
    "df_combo_out.insert(2, 'Corr_Split+1σ', df_combo_out['Corrected_Splitting']+split_err)\n",
    "df_combo_out.insert(3, 'Corr_Split-1σ',df_combo_out['Corrected_Splitting']-split_err)\n",
    "df_combo_out.insert(4, 'Corr_Split_1σ_val', split_err)\n",
    "\n",
    "nm=os.path.basename(DayFolder)\n",
    "df_combo_out.to_excel(output_path+'/'+nm+'_FI_fitting.xlsx')"
   ]
  },
  {
   "attachments": {},
   "cell_type": "markdown",
   "id": "54b229a4-026d-4e4e-ab0a-ed0362566919",
   "metadata": {},
   "source": [
    "## If you have secondary phases, now is the time to merge those in"
   ]
  },
  {
   "cell_type": "code",
   "execution_count": 13,
   "id": "bc38474f-45cd-4fa5-beef-49db69e82989",
   "metadata": {},
   "outputs": [
    {
     "data": {
      "text/html": [
       "<div>\n",
       "<style scoped>\n",
       "    .dataframe tbody tr th:only-of-type {\n",
       "        vertical-align: middle;\n",
       "    }\n",
       "\n",
       "    .dataframe tbody tr th {\n",
       "        vertical-align: top;\n",
       "    }\n",
       "\n",
       "    .dataframe thead th {\n",
       "        text-align: right;\n",
       "    }\n",
       "</style>\n",
       "<table border=\"1\" class=\"dataframe\">\n",
       "  <thead>\n",
       "    <tr style=\"text-align: right;\">\n",
       "      <th></th>\n",
       "      <th>filename</th>\n",
       "      <th>Peak_Cent_SO2</th>\n",
       "      <th>Peak_Area_SO2</th>\n",
       "      <th>Peak_Height_SO2</th>\n",
       "      <th>Model_name</th>\n",
       "    </tr>\n",
       "  </thead>\n",
       "  <tbody>\n",
       "    <tr>\n",
       "      <th>0</th>\n",
       "      <td>LL4_2-FI#2.txt</td>\n",
       "      <td>1150.710585</td>\n",
       "      <td>63.339460</td>\n",
       "      <td>45.266549</td>\n",
       "      <td>Spline</td>\n",
       "    </tr>\n",
       "    <tr>\n",
       "      <th>1</th>\n",
       "      <td>LL8_156-FI#1-6mw-R1.txt</td>\n",
       "      <td>1150.622093</td>\n",
       "      <td>34.602552</td>\n",
       "      <td>16.777434</td>\n",
       "      <td>Spline</td>\n",
       "    </tr>\n",
       "    <tr>\n",
       "      <th>2</th>\n",
       "      <td>LL8_156-FI#1-6mw-R2.txt</td>\n",
       "      <td>1150.681087</td>\n",
       "      <td>28.364822</td>\n",
       "      <td>21.406792</td>\n",
       "      <td>Spline</td>\n",
       "    </tr>\n",
       "    <tr>\n",
       "      <th>3</th>\n",
       "      <td>LL8_156-FI#1-6mw-R3.txt</td>\n",
       "      <td>1150.710585</td>\n",
       "      <td>31.044180</td>\n",
       "      <td>23.323566</td>\n",
       "      <td>Spline</td>\n",
       "    </tr>\n",
       "    <tr>\n",
       "      <th>4</th>\n",
       "      <td>LL8_156-FI#2.txt</td>\n",
       "      <td>1150.769579</td>\n",
       "      <td>203.687957</td>\n",
       "      <td>132.549560</td>\n",
       "      <td>Spline</td>\n",
       "    </tr>\n",
       "  </tbody>\n",
       "</table>\n",
       "</div>"
      ],
      "text/plain": [
       "                  filename  Peak_Cent_SO2  Peak_Area_SO2  Peak_Height_SO2  \\\n",
       "0           LL4_2-FI#2.txt    1150.710585      63.339460        45.266549   \n",
       "1  LL8_156-FI#1-6mw-R1.txt    1150.622093      34.602552        16.777434   \n",
       "2  LL8_156-FI#1-6mw-R2.txt    1150.681087      28.364822        21.406792   \n",
       "3  LL8_156-FI#1-6mw-R3.txt    1150.710585      31.044180        23.323566   \n",
       "4         LL8_156-FI#2.txt    1150.769579     203.687957       132.549560   \n",
       "\n",
       "  Model_name  \n",
       "0     Spline  \n",
       "1     Spline  \n",
       "2     Spline  \n",
       "3     Spline  \n",
       "4     Spline  "
      ]
     },
     "execution_count": 13,
     "metadata": {},
     "output_type": "execute_result"
    }
   ],
   "source": [
    "if path.exists('Carb_Peak_fits.xlsx'):\n",
    "    Carb=pd.read_excel('Carb_Peak_fits.xlsx')\n",
    "else:\n",
    "    Carb=None\n",
    "if path.exists('SO2_Peak_fits.xlsx'):\n",
    "    SO2=pd.read_excel('SO2_Peak_fits.xlsx')\n",
    "else:\n",
    "    SO2=None\n",
    "if SO2 is not None and Carb is not None:\n",
    "    Sec_Phases=pd.merge(SO2, Carb, on='filename', how='outer')\n",
    "elif SO2 is not None and Carb is None:\n",
    "    Sec_Phases=SO2\n",
    "elif SO2 is None and Carb is not None:\n",
    "    Sec_Phases=Carb\n",
    "else:\n",
    "    Sec_Phases=None\n",
    "Sec_Phases.head()"
   ]
  },
  {
   "cell_type": "code",
   "execution_count": 14,
   "id": "e8c12b56-b12d-4331-b45c-a204526e502a",
   "metadata": {},
   "outputs": [
    {
     "name": "stdout",
     "output_type": "stream",
     "text": [
      "good job, no duplicate file names\n"
     ]
    }
   ],
   "source": [
    "# Remove these to get the pure file name\n",
    "if Sec_Phases is not None:\n",
    "    file_sec_phase=pf.extracting_filenames_generic(\n",
    "        prefix=False, str_prefix=\" \",\n",
    "        names=Sec_Phases['filename'].reset_index(drop=True),\n",
    "       file_type='.txt')\n",
    "\n",
    "    file_sec_phase"
   ]
  },
  {
   "cell_type": "code",
   "execution_count": 15,
   "id": "ff6b1419-fa62-443b-95f1-78299d7d5656",
   "metadata": {},
   "outputs": [
    {
     "data": {
      "text/plain": [
       "array(['LL4_2-FI#2', 'LL8_156-FI#1-6mw-R1', 'LL8_156-FI#1-6mw-R2',\n",
       "       'LL8_156-FI#1-6mw-R3', 'LL8_156-FI#2', 'LL8_156-FI#4-12mw',\n",
       "       'LL8_156-FI#4-6mw-R1', 'LL8_156-FI#4-6mw-R2',\n",
       "       'LL8_156-FI#4-6mw-R3', 'LL8_156-FI#6-12mw-R1',\n",
       "       'LL8_156-FI#6-12mw-R2', 'LL8_156-FI#6-12mw-R3', 'LL8_156-FI#6-6mw',\n",
       "       'LL8_243-FI#2-12mw-R1', 'LL8_243-FI#2-12mw-R2',\n",
       "       'LL8_243-FI#2-12mw-R3'], dtype=object)"
      ]
     },
     "execution_count": 15,
     "metadata": {},
     "output_type": "execute_result"
    }
   ],
   "source": [
    "file_sec_phase"
   ]
  },
  {
   "cell_type": "code",
   "execution_count": 16,
   "id": "56bacae4-1061-42b5-822a-4a58312a8c22",
   "metadata": {},
   "outputs": [
    {
     "data": {
      "text/plain": [
       "0          LL1_275-FI#2-R2\n",
       "1          LL1_275-FI#2-R3\n",
       "2          LL1_275-FI#2-R4\n",
       "3          LL1_275-FI#3-R1\n",
       "4          LL1_275-FI#3-R2\n",
       "5               LL4_2-FI#2\n",
       "6      LL8_156-FI#1-6mw-R1\n",
       "7      LL8_156-FI#1-6mw-R2\n",
       "8      LL8_156-FI#1-6mw-R3\n",
       "9             LL8_156-FI#2\n",
       "10     LL8_156-FI#4-6mw-R1\n",
       "11     LL8_156-FI#4-6mw-R2\n",
       "12     LL8_156-FI#4-6mw-R3\n",
       "13    LL8_156-FI#6-12mw-R1\n",
       "14    LL8_156-FI#6-12mw-R2\n",
       "15    LL8_156-FI#6-12mw-R3\n",
       "16        LL8_156-FI#6-6mw\n",
       "17    LL8_243-FI#2-12mw-R1\n",
       "18    LL8_243-FI#2-12mw-R2\n",
       "19    LL8_243-FI#2-12mw-R3\n",
       "20       LL8_406-FI#4-12mw\n",
       "21       LL8_156-FI#4-12mw\n",
       "Name: name_for_matching, dtype: object"
      ]
     },
     "execution_count": 16,
     "metadata": {},
     "output_type": "execute_result"
    }
   ],
   "source": [
    "df_combo['name_for_matching']"
   ]
  },
  {
   "cell_type": "code",
   "execution_count": 17,
   "id": "f09b738b-d075-4f6a-b033-c19e7afd5e26",
   "metadata": {},
   "outputs": [],
   "source": [
    "df_combo['name_for_matching']=df_combo['Name_for_Secondary_Phases']\n",
    "\n",
    "if Sec_Phases is not None:\n",
    "    Sec_Phases['name_for_matching']=file_sec_phase\n",
    "    df_combo_sec_phase=df_combo_out.merge(Sec_Phases, \n",
    "    on='name_for_matching', how='outer')\n",
    "    \n",
    "else:\n",
    "    df_combo_sec_phase=df_combo_out"
   ]
  },
  {
   "attachments": {},
   "cell_type": "markdown",
   "id": "299ea007-e39d-4ff7-8970-ccfbf9d5040c",
   "metadata": {},
   "source": [
    "### Add some more useful columns"
   ]
  },
  {
   "cell_type": "code",
   "execution_count": 18,
   "id": "97111939-e39c-43ce-8ea3-6bb9cd5d150d",
   "metadata": {},
   "outputs": [
    {
     "data": {
      "text/html": [
       "<div>\n",
       "<style scoped>\n",
       "    .dataframe tbody tr th:only-of-type {\n",
       "        vertical-align: middle;\n",
       "    }\n",
       "\n",
       "    .dataframe tbody tr th {\n",
       "        vertical-align: top;\n",
       "    }\n",
       "\n",
       "    .dataframe thead th {\n",
       "        text-align: right;\n",
       "    }\n",
       "</style>\n",
       "<table border=\"1\" class=\"dataframe\">\n",
       "  <thead>\n",
       "    <tr style=\"text-align: right;\">\n",
       "      <th></th>\n",
       "      <th>Unnamed: 0</th>\n",
       "      <th>Corrected_Splitting</th>\n",
       "      <th>Corr_Split+1σ</th>\n",
       "      <th>Corr_Split-1σ</th>\n",
       "      <th>Corr_Split_1σ_val</th>\n",
       "      <th>filename_x</th>\n",
       "      <th>Splitting</th>\n",
       "      <th>Split_err_abs</th>\n",
       "      <th>Split_err_quadrature</th>\n",
       "      <th>Diad1_Combofit_Cent</th>\n",
       "      <th>...</th>\n",
       "      <th>duration</th>\n",
       "      <th>24hr_time</th>\n",
       "      <th>sec since midnight</th>\n",
       "      <th>Spectral Center</th>\n",
       "      <th>filename</th>\n",
       "      <th>Peak_Cent_SO2</th>\n",
       "      <th>Peak_Area_SO2</th>\n",
       "      <th>Peak_Height_SO2</th>\n",
       "      <th>Model_name</th>\n",
       "      <th>SO2_Diad_Ratio</th>\n",
       "    </tr>\n",
       "  </thead>\n",
       "  <tbody>\n",
       "    <tr>\n",
       "      <th>0</th>\n",
       "      <td>0</td>\n",
       "      <td>103.042338</td>\n",
       "      <td>103.138485</td>\n",
       "      <td>102.946191</td>\n",
       "      <td>0.096147</td>\n",
       "      <td>LL1_275-FI#2-R2_CRR_DiadFit</td>\n",
       "      <td>103.294890</td>\n",
       "      <td>0.133473</td>\n",
       "      <td>0.096374</td>\n",
       "      <td>1285.690490</td>\n",
       "      <td>...</td>\n",
       "      <td>['0h', '2m', '26s']</td>\n",
       "      <td>2:51:24 PM\\n</td>\n",
       "      <td>53484.0</td>\n",
       "      <td>1325.004</td>\n",
       "      <td>NaN</td>\n",
       "      <td>NaN</td>\n",
       "      <td>NaN</td>\n",
       "      <td>NaN</td>\n",
       "      <td>NaN</td>\n",
       "      <td>NaN</td>\n",
       "    </tr>\n",
       "    <tr>\n",
       "      <th>1</th>\n",
       "      <td>0</td>\n",
       "      <td>102.936073</td>\n",
       "      <td>102.962730</td>\n",
       "      <td>102.909415</td>\n",
       "      <td>0.026658</td>\n",
       "      <td>LL1_275-FI#2-R3_CRR_DiadFit</td>\n",
       "      <td>103.188372</td>\n",
       "      <td>0.037022</td>\n",
       "      <td>0.026692</td>\n",
       "      <td>1285.834584</td>\n",
       "      <td>...</td>\n",
       "      <td>['0h', '3m', '1s']</td>\n",
       "      <td>2:53:57 PM\\n</td>\n",
       "      <td>53637.0</td>\n",
       "      <td>1325.004</td>\n",
       "      <td>NaN</td>\n",
       "      <td>NaN</td>\n",
       "      <td>NaN</td>\n",
       "      <td>NaN</td>\n",
       "      <td>NaN</td>\n",
       "      <td>NaN</td>\n",
       "    </tr>\n",
       "    <tr>\n",
       "      <th>2</th>\n",
       "      <td>0</td>\n",
       "      <td>102.952580</td>\n",
       "      <td>102.962489</td>\n",
       "      <td>102.942672</td>\n",
       "      <td>0.009909</td>\n",
       "      <td>LL1_275-FI#2-R4_CRR_DiadFit</td>\n",
       "      <td>103.204924</td>\n",
       "      <td>0.009848</td>\n",
       "      <td>0.009848</td>\n",
       "      <td>1285.782739</td>\n",
       "      <td>...</td>\n",
       "      <td>['0h', '3m', '1s']</td>\n",
       "      <td>2:57:38 PM\\n</td>\n",
       "      <td>53858.0</td>\n",
       "      <td>1325.004</td>\n",
       "      <td>NaN</td>\n",
       "      <td>NaN</td>\n",
       "      <td>NaN</td>\n",
       "      <td>NaN</td>\n",
       "      <td>NaN</td>\n",
       "      <td>NaN</td>\n",
       "    </tr>\n",
       "    <tr>\n",
       "      <th>3</th>\n",
       "      <td>0</td>\n",
       "      <td>102.886464</td>\n",
       "      <td>102.928522</td>\n",
       "      <td>102.844405</td>\n",
       "      <td>0.042059</td>\n",
       "      <td>LL1_275-FI#3-R1_CRR_DiadFit</td>\n",
       "      <td>103.138565</td>\n",
       "      <td>0.058238</td>\n",
       "      <td>0.042143</td>\n",
       "      <td>1286.072148</td>\n",
       "      <td>...</td>\n",
       "      <td>['0h', '3m', '47s']</td>\n",
       "      <td>2:40:13 PM\\n</td>\n",
       "      <td>52813.0</td>\n",
       "      <td>1325.004</td>\n",
       "      <td>NaN</td>\n",
       "      <td>NaN</td>\n",
       "      <td>NaN</td>\n",
       "      <td>NaN</td>\n",
       "      <td>NaN</td>\n",
       "      <td>NaN</td>\n",
       "    </tr>\n",
       "    <tr>\n",
       "      <th>4</th>\n",
       "      <td>0</td>\n",
       "      <td>102.797130</td>\n",
       "      <td>102.814193</td>\n",
       "      <td>102.780067</td>\n",
       "      <td>0.017063</td>\n",
       "      <td>LL1_275-FI#3-R2_CRR_DiadFit</td>\n",
       "      <td>103.049046</td>\n",
       "      <td>0.017057</td>\n",
       "      <td>0.017057</td>\n",
       "      <td>1286.160574</td>\n",
       "      <td>...</td>\n",
       "      <td>['0h', '3m', '2s']</td>\n",
       "      <td>2:44:24 PM\\n</td>\n",
       "      <td>53064.0</td>\n",
       "      <td>1325.004</td>\n",
       "      <td>NaN</td>\n",
       "      <td>NaN</td>\n",
       "      <td>NaN</td>\n",
       "      <td>NaN</td>\n",
       "      <td>NaN</td>\n",
       "      <td>NaN</td>\n",
       "    </tr>\n",
       "  </tbody>\n",
       "</table>\n",
       "<p>5 rows × 65 columns</p>\n",
       "</div>"
      ],
      "text/plain": [
       "  Unnamed: 0  Corrected_Splitting  Corr_Split+1σ  Corr_Split-1σ  \\\n",
       "0          0           103.042338     103.138485     102.946191   \n",
       "1          0           102.936073     102.962730     102.909415   \n",
       "2          0           102.952580     102.962489     102.942672   \n",
       "3          0           102.886464     102.928522     102.844405   \n",
       "4          0           102.797130     102.814193     102.780067   \n",
       "\n",
       "   Corr_Split_1σ_val                   filename_x   Splitting  Split_err_abs  \\\n",
       "0           0.096147  LL1_275-FI#2-R2_CRR_DiadFit  103.294890       0.133473   \n",
       "1           0.026658  LL1_275-FI#2-R3_CRR_DiadFit  103.188372       0.037022   \n",
       "2           0.009909  LL1_275-FI#2-R4_CRR_DiadFit  103.204924       0.009848   \n",
       "3           0.042059  LL1_275-FI#3-R1_CRR_DiadFit  103.138565       0.058238   \n",
       "4           0.017063  LL1_275-FI#3-R2_CRR_DiadFit  103.049046       0.017057   \n",
       "\n",
       "   Split_err_quadrature  Diad1_Combofit_Cent  ...             duration  \\\n",
       "0              0.096374          1285.690490  ...  ['0h', '2m', '26s']   \n",
       "1              0.026692          1285.834584  ...   ['0h', '3m', '1s']   \n",
       "2              0.009848          1285.782739  ...   ['0h', '3m', '1s']   \n",
       "3              0.042143          1286.072148  ...  ['0h', '3m', '47s']   \n",
       "4              0.017057          1286.160574  ...   ['0h', '3m', '2s']   \n",
       "\n",
       "      24hr_time  sec since midnight  Spectral Center  filename  Peak_Cent_SO2  \\\n",
       "0  2:51:24 PM\\n             53484.0         1325.004       NaN            NaN   \n",
       "1  2:53:57 PM\\n             53637.0         1325.004       NaN            NaN   \n",
       "2  2:57:38 PM\\n             53858.0         1325.004       NaN            NaN   \n",
       "3  2:40:13 PM\\n             52813.0         1325.004       NaN            NaN   \n",
       "4  2:44:24 PM\\n             53064.0         1325.004       NaN            NaN   \n",
       "\n",
       "   Peak_Area_SO2  Peak_Height_SO2 Model_name  SO2_Diad_Ratio  \n",
       "0            NaN              NaN        NaN             NaN  \n",
       "1            NaN              NaN        NaN             NaN  \n",
       "2            NaN              NaN        NaN             NaN  \n",
       "3            NaN              NaN        NaN             NaN  \n",
       "4            NaN              NaN        NaN             NaN  \n",
       "\n",
       "[5 rows x 65 columns]"
      ]
     },
     "execution_count": 18,
     "metadata": {},
     "output_type": "execute_result"
    }
   ],
   "source": [
    "if 'Peak_Area_Carb' in df_combo_sec_phase.columns:\n",
    "    df_combo_sec_phase['Carb_Diad_Ratio']=(df_combo_sec_phase['Peak_Area_Carb']/(df_combo_sec_phase['Diad1_Voigt_Area']\n",
    "                      +df_combo_sec_phase['Diad2_Voigt_Area']))\n",
    "if 'Peak_Area_SO2' in df_combo_sec_phase.columns:\n",
    "    df_combo_sec_phase['SO2_Diad_Ratio']=(df_combo_sec_phase['Peak_Area_SO2']/(df_combo_sec_phase['Diad1_Voigt_Area']\n",
    "                      +df_combo_sec_phase['Diad2_Voigt_Area']))\n",
    "    \n",
    "df_combo_sec_phase.head()"
   ]
  },
  {
   "cell_type": "code",
   "execution_count": 19,
   "id": "9e5cffde-1b26-4aaf-b1c0-eb081c766242",
   "metadata": {},
   "outputs": [],
   "source": [
    "df_combo_sec_phase.to_excel(output_path+'/'+nm+'_FI_fitting_w_sec_phases.xlsx')"
   ]
  },
  {
   "cell_type": "code",
   "execution_count": 20,
   "id": "ba856608",
   "metadata": {},
   "outputs": [],
   "source": [
    "from winotify import Notification, audio\n",
    "\n",
    "toast= Notification(app_id=\"VSCode\",title=\"Notebook completed\",\n",
    "                    msg=\"Step4_Stitch_Outputs_Together is done!\",\n",
    "                    duration=\"short\")\n",
    "toast.set_audio(audio.Mail,loop=False)\n",
    "toast.show()"
   ]
  },
  {
   "cell_type": "code",
   "execution_count": null,
   "id": "4819c90e",
   "metadata": {},
   "outputs": [],
   "source": []
  },
  {
   "cell_type": "code",
   "execution_count": null,
   "id": "9a3d200d",
   "metadata": {},
   "outputs": [],
   "source": []
  },
  {
   "cell_type": "code",
   "execution_count": null,
   "id": "9bbfe0f9",
   "metadata": {},
   "outputs": [],
   "source": []
  }
 ],
 "metadata": {
  "kernelspec": {
   "display_name": "Python 3 (ipykernel)",
   "language": "python",
   "name": "python3"
  },
  "language_info": {
   "codemirror_mode": {
    "name": "ipython",
    "version": 3
   },
   "file_extension": ".py",
   "mimetype": "text/x-python",
   "name": "python",
   "nbconvert_exporter": "python",
   "pygments_lexer": "ipython3",
   "version": "3.9.16"
  }
 },
 "nbformat": 4,
 "nbformat_minor": 5
}
