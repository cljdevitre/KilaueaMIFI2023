{
 "cells": [
  {
   "attachments": {},
   "cell_type": "markdown",
   "id": "0a5d30ae-095e-4406-aff7-a817c2603e2c",
   "metadata": {},
   "source": [
    "# 4. Stitch outputs together\n",
    "- Once you have fitted the weak, medium and dense diads, stitch them all together, and apply the Ne correction model"
   ]
  },
  {
   "cell_type": "code",
   "execution_count": 41,
   "id": "56f8c066-4754-4d3e-9217-ae9e8f792016",
   "metadata": {},
   "outputs": [
    {
     "data": {
      "text/plain": [
       "'0.0.62'"
      ]
     },
     "execution_count": 41,
     "metadata": {},
     "output_type": "execute_result"
    }
   ],
   "source": [
    "import numpy as np\n",
    "import pandas as pd\n",
    "import matplotlib.pyplot as plt\n",
    "import joblib\n",
    "import os\n",
    "from pickle import load\n",
    "import pickle\n",
    "import DiadFit as pf\n",
    "pf.__version__"
   ]
  },
  {
   "cell_type": "code",
   "execution_count": 42,
   "id": "cab54670-2019-40be-b7d8-588189ac9ced",
   "metadata": {},
   "outputs": [],
   "source": [
    "MasterFolder = r\"P:\\WORK-GENERAL\\POSTDOC-UCB\\BERKELEY-VIBE\\Documents\\Projects\\Data\\Hawaii_FI\\Data\\Raman\\Leilani-2018\"\n",
    "DayFolder = os.path.join(MasterFolder, \"Leilani_2018FI_Oct722\")\n",
    "\n",
    "meta_path=DayFolder +  '\\Metadata'\n",
    "spectra_path=DayFolder + '\\Spectra'\n",
    "filetype='headless_txt'\n",
    "\n",
    "if not os.path.exists(MasterFolder + '\\OUTPUT'):\n",
    "    os.mkdir(MasterFolder +'\\OUTPUT')\n",
    "\n",
    "\n",
    "output_path=MasterFolder +'\\OUTPUT'\n"
   ]
  },
  {
   "attachments": {},
   "cell_type": "markdown",
   "id": "8230f033-6c2c-4494-a554-885ab21b2e21",
   "metadata": {},
   "source": [
    "## Load in specra, and combine"
   ]
  },
  {
   "cell_type": "code",
   "execution_count": 43,
   "id": "0b0bb450-0872-44f7-b99e-2585f994efde",
   "metadata": {},
   "outputs": [],
   "source": [
    "from os import path\n",
    "if path.exists('Discarded_df.xlsx'):\n",
    "    discard=pd.read_excel('Discarded_df.xlsx')\n",
    "else:\n",
    "    discard=None\n",
    "if path.exists('Weak_Diads.xlsx'):\n",
    "    grp1=pd.read_excel('Weak_Diads.xlsx')\n",
    "else:\n",
    "    grp1=None\n",
    "if path.exists('Medium_Diads.xlsx'):\n",
    "    grp2=pd.read_excel('Medium_Diads.xlsx')\n",
    "else:\n",
    "    grp2=None\n",
    "if path.exists('Strong_Diads.xlsx'):\n",
    "    grp3=pd.read_excel('Strong_Diads.xlsx')\n",
    "else:\n",
    "    grp3=None\n",
    "df2=pd.concat([grp1, grp2, grp3], axis=0)\n",
    "if discard is not None:\n",
    "    discard_cols=discard[discard.columns.intersection(df2.columns)]\n",
    "    df2=pd.concat([df2, discard_cols])"
   ]
  },
  {
   "cell_type": "code",
   "execution_count": 44,
   "id": "3a7ed038-f31a-41d8-9f30-c278103c56a6",
   "metadata": {},
   "outputs": [
    {
     "data": {
      "text/html": [
       "<div>\n",
       "<style scoped>\n",
       "    .dataframe tbody tr th:only-of-type {\n",
       "        vertical-align: middle;\n",
       "    }\n",
       "\n",
       "    .dataframe tbody tr th {\n",
       "        vertical-align: top;\n",
       "    }\n",
       "\n",
       "    .dataframe thead th {\n",
       "        text-align: right;\n",
       "    }\n",
       "</style>\n",
       "<table border=\"1\" class=\"dataframe\">\n",
       "  <thead>\n",
       "    <tr style=\"text-align: right;\">\n",
       "      <th></th>\n",
       "      <th>Unnamed: 0</th>\n",
       "      <th>filename</th>\n",
       "      <th>Splitting</th>\n",
       "      <th>Split_err_abs</th>\n",
       "      <th>Split_err_quadrature</th>\n",
       "      <th>Diad1_Combofit_Cent</th>\n",
       "      <th>Diad1_cent_err</th>\n",
       "      <th>Diad1_Combofit_Height</th>\n",
       "      <th>Diad1_Voigt_Cent</th>\n",
       "      <th>Diad1_Voigt_Area</th>\n",
       "      <th>...</th>\n",
       "      <th>HB2_Sigma</th>\n",
       "      <th>C13_Cent</th>\n",
       "      <th>C13_Area</th>\n",
       "      <th>C13_Sigma</th>\n",
       "      <th>Diad2_Gauss_Cent</th>\n",
       "      <th>Diad2_Gauss_Area</th>\n",
       "      <th>Diad2_Gauss_Sigma</th>\n",
       "      <th>Diad1_Gauss_Cent</th>\n",
       "      <th>Diad1_Gauss_Area</th>\n",
       "      <th>Diad1_Gauss_Sigma</th>\n",
       "    </tr>\n",
       "  </thead>\n",
       "  <tbody>\n",
       "    <tr>\n",
       "      <th>0</th>\n",
       "      <td>0</td>\n",
       "      <td>LL4-FI1-#1_CRR_DiadFit</td>\n",
       "      <td>103.253808</td>\n",
       "      <td>0.014175</td>\n",
       "      <td>0.010410</td>\n",
       "      <td>1285.320300</td>\n",
       "      <td>0.009076</td>\n",
       "      <td>239.227207</td>\n",
       "      <td>1285.320300</td>\n",
       "      <td>363.144490</td>\n",
       "      <td>...</td>\n",
       "      <td>NaN</td>\n",
       "      <td>NaN</td>\n",
       "      <td>NaN</td>\n",
       "      <td>NaN</td>\n",
       "      <td>NaN</td>\n",
       "      <td>NaN</td>\n",
       "      <td>NaN</td>\n",
       "      <td>NaN</td>\n",
       "      <td>NaN</td>\n",
       "      <td>NaN</td>\n",
       "    </tr>\n",
       "    <tr>\n",
       "      <th>1</th>\n",
       "      <td>0</td>\n",
       "      <td>LL4-FI1-#2 (1)_CRR_DiadFit</td>\n",
       "      <td>103.246802</td>\n",
       "      <td>0.003675</td>\n",
       "      <td>0.003675</td>\n",
       "      <td>1285.353606</td>\n",
       "      <td>0.000000</td>\n",
       "      <td>587.611145</td>\n",
       "      <td>1285.353606</td>\n",
       "      <td>889.332271</td>\n",
       "      <td>...</td>\n",
       "      <td>NaN</td>\n",
       "      <td>NaN</td>\n",
       "      <td>NaN</td>\n",
       "      <td>NaN</td>\n",
       "      <td>NaN</td>\n",
       "      <td>NaN</td>\n",
       "      <td>NaN</td>\n",
       "      <td>NaN</td>\n",
       "      <td>NaN</td>\n",
       "      <td>NaN</td>\n",
       "    </tr>\n",
       "    <tr>\n",
       "      <th>2</th>\n",
       "      <td>0</td>\n",
       "      <td>LL4-FI1-#2_CRR_DiadFit</td>\n",
       "      <td>103.249966</td>\n",
       "      <td>0.005273</td>\n",
       "      <td>0.004054</td>\n",
       "      <td>1285.366563</td>\n",
       "      <td>0.001511</td>\n",
       "      <td>1248.110484</td>\n",
       "      <td>1285.366563</td>\n",
       "      <td>1836.564850</td>\n",
       "      <td>...</td>\n",
       "      <td>NaN</td>\n",
       "      <td>NaN</td>\n",
       "      <td>NaN</td>\n",
       "      <td>NaN</td>\n",
       "      <td>NaN</td>\n",
       "      <td>NaN</td>\n",
       "      <td>NaN</td>\n",
       "      <td>NaN</td>\n",
       "      <td>NaN</td>\n",
       "      <td>NaN</td>\n",
       "    </tr>\n",
       "    <tr>\n",
       "      <th>3</th>\n",
       "      <td>0</td>\n",
       "      <td>LL7-107-FI#2_12mW1acc_CRR_DiadFit</td>\n",
       "      <td>103.611593</td>\n",
       "      <td>0.004321</td>\n",
       "      <td>0.004321</td>\n",
       "      <td>1284.465839</td>\n",
       "      <td>0.000000</td>\n",
       "      <td>2618.741975</td>\n",
       "      <td>1284.465839</td>\n",
       "      <td>5995.685336</td>\n",
       "      <td>...</td>\n",
       "      <td>NaN</td>\n",
       "      <td>NaN</td>\n",
       "      <td>NaN</td>\n",
       "      <td>NaN</td>\n",
       "      <td>NaN</td>\n",
       "      <td>NaN</td>\n",
       "      <td>NaN</td>\n",
       "      <td>NaN</td>\n",
       "      <td>NaN</td>\n",
       "      <td>NaN</td>\n",
       "    </tr>\n",
       "    <tr>\n",
       "      <th>4</th>\n",
       "      <td>0</td>\n",
       "      <td>LL7-109-FI_CRR_DiadFit</td>\n",
       "      <td>103.461170</td>\n",
       "      <td>0.028033</td>\n",
       "      <td>0.028033</td>\n",
       "      <td>1284.821951</td>\n",
       "      <td>0.028033</td>\n",
       "      <td>160.370436</td>\n",
       "      <td>1284.821951</td>\n",
       "      <td>339.343530</td>\n",
       "      <td>...</td>\n",
       "      <td>NaN</td>\n",
       "      <td>NaN</td>\n",
       "      <td>NaN</td>\n",
       "      <td>NaN</td>\n",
       "      <td>NaN</td>\n",
       "      <td>NaN</td>\n",
       "      <td>NaN</td>\n",
       "      <td>NaN</td>\n",
       "      <td>NaN</td>\n",
       "      <td>NaN</td>\n",
       "    </tr>\n",
       "  </tbody>\n",
       "</table>\n",
       "<p>5 rows × 41 columns</p>\n",
       "</div>"
      ],
      "text/plain": [
       "   Unnamed: 0                           filename   Splitting  Split_err_abs  \\\n",
       "0           0             LL4-FI1-#1_CRR_DiadFit  103.253808       0.014175   \n",
       "1           0         LL4-FI1-#2 (1)_CRR_DiadFit  103.246802       0.003675   \n",
       "2           0             LL4-FI1-#2_CRR_DiadFit  103.249966       0.005273   \n",
       "3           0  LL7-107-FI#2_12mW1acc_CRR_DiadFit  103.611593       0.004321   \n",
       "4           0             LL7-109-FI_CRR_DiadFit  103.461170       0.028033   \n",
       "\n",
       "   Split_err_quadrature  Diad1_Combofit_Cent  Diad1_cent_err  \\\n",
       "0              0.010410          1285.320300        0.009076   \n",
       "1              0.003675          1285.353606        0.000000   \n",
       "2              0.004054          1285.366563        0.001511   \n",
       "3              0.004321          1284.465839        0.000000   \n",
       "4              0.028033          1284.821951        0.028033   \n",
       "\n",
       "   Diad1_Combofit_Height  Diad1_Voigt_Cent  Diad1_Voigt_Area  ...  HB2_Sigma  \\\n",
       "0             239.227207       1285.320300        363.144490  ...        NaN   \n",
       "1             587.611145       1285.353606        889.332271  ...        NaN   \n",
       "2            1248.110484       1285.366563       1836.564850  ...        NaN   \n",
       "3            2618.741975       1284.465839       5995.685336  ...        NaN   \n",
       "4             160.370436       1284.821951        339.343530  ...        NaN   \n",
       "\n",
       "   C13_Cent  C13_Area  C13_Sigma Diad2_Gauss_Cent  Diad2_Gauss_Area  \\\n",
       "0       NaN       NaN        NaN              NaN               NaN   \n",
       "1       NaN       NaN        NaN              NaN               NaN   \n",
       "2       NaN       NaN        NaN              NaN               NaN   \n",
       "3       NaN       NaN        NaN              NaN               NaN   \n",
       "4       NaN       NaN        NaN              NaN               NaN   \n",
       "\n",
       "   Diad2_Gauss_Sigma  Diad1_Gauss_Cent  Diad1_Gauss_Area  Diad1_Gauss_Sigma  \n",
       "0                NaN               NaN               NaN                NaN  \n",
       "1                NaN               NaN               NaN                NaN  \n",
       "2                NaN               NaN               NaN                NaN  \n",
       "3                NaN               NaN               NaN                NaN  \n",
       "4                NaN               NaN               NaN                NaN  \n",
       "\n",
       "[5 rows x 41 columns]"
      ]
     },
     "execution_count": 44,
     "metadata": {},
     "output_type": "execute_result"
    }
   ],
   "source": [
    "df2.head()"
   ]
  },
  {
   "attachments": {},
   "cell_type": "markdown",
   "id": "6449c9b4-d538-4d37-ad78-49c87aa677af",
   "metadata": {},
   "source": [
    "## First, get the metadata for this day"
   ]
  },
  {
   "cell_type": "code",
   "execution_count": 45,
   "id": "027e3ea1-f4ef-4c53-a57d-977e1f639ec9",
   "metadata": {},
   "outputs": [
    {
     "data": {
      "text/plain": [
       "['LL4-FI1-#1.txt',\n",
       " 'LL4-FI1-#2 (1).txt',\n",
       " 'LL4-FI1-#2.txt',\n",
       " 'LL7-107-FI#1.txt',\n",
       " 'LL7-107-FI#2_12mW1acc.txt',\n",
       " 'LL7-107-FI#2_6mW.txt',\n",
       " 'LL7-109-FI.txt',\n",
       " 'LL7-FI33.txt',\n",
       " 'LL7-FI34.txt',\n",
       " 'LL8-245.txt',\n",
       " 'LL8-433-FI_12mW.txt',\n",
       " 'LL8-433-FI_6mW.txt']"
      ]
     },
     "execution_count": 45,
     "metadata": {},
     "output_type": "execute_result"
    }
   ],
   "source": [
    "# Put the common string you can in all your Ne lines here\n",
    "ID_str='_'\n",
    "file_ext_meta='txt' # Will only take files of this type \n",
    "diad_meta=pf.get_files(path=meta_path,\n",
    "file_ext='txt', exclude_str=['N', 'Si', 'series','IMG','Cap','window','nodiad'],\n",
    " sort=True)\n",
    "diad_meta"
   ]
  },
  {
   "attachments": {},
   "cell_type": "markdown",
   "id": "378575ca-336b-4f04-bc6e-cf397dfdc56e",
   "metadata": {},
   "source": [
    "## Now get all the important information out of the metadata files"
   ]
  },
  {
   "cell_type": "code",
   "execution_count": 46,
   "id": "57ebb7b9-5c4f-4b49-9686-36f0d2ec9e8d",
   "metadata": {},
   "outputs": [
    {
     "name": "stderr",
     "output_type": "stream",
     "text": [
      "100%|██████████| 12/12 [00:00<00:00, 117.62it/s]"
     ]
    },
    {
     "name": "stdout",
     "output_type": "stream",
     "text": [
      "Done\n"
     ]
    },
    {
     "name": "stderr",
     "output_type": "stream",
     "text": [
      "\n"
     ]
    },
    {
     "data": {
      "text/plain": [
       "'LL8-245.txt'"
      ]
     },
     "execution_count": 46,
     "metadata": {},
     "output_type": "execute_result"
    }
   ],
   "source": [
    "meta=pf.stitch_metadata_in_loop_witec(path=meta_path, \n",
    "Allfiles=diad_meta, prefix=False,\n",
    "trupower=True)\n",
    "meta['filename'].iloc[0]"
   ]
  },
  {
   "attachments": {},
   "cell_type": "markdown",
   "id": "b7a6fbc0-2b4a-4f4b-8cfd-cc227047d833",
   "metadata": {},
   "source": [
    "## Then get a simple file name you can stitch with the spectra"
   ]
  },
  {
   "cell_type": "code",
   "execution_count": 47,
   "id": "ea140384-9cb9-41bf-b57e-eb16120afe12",
   "metadata": {},
   "outputs": [
    {
     "name": "stdout",
     "output_type": "stream",
     "text": [
      "good job, no duplicate file names\n"
     ]
    },
    {
     "data": {
      "text/plain": [
       "'LL8-245'"
      ]
     },
     "execution_count": 47,
     "metadata": {},
     "output_type": "execute_result"
    }
   ],
   "source": [
    "file_m=pf.extracting_filenames_generic(names=meta['filename'],\n",
    "    prefix=False, str_prefix=\" \",\n",
    "   file_type='.txt')\n",
    "# Checks they are all unique\n",
    "file_m[0]"
   ]
  },
  {
   "attachments": {},
   "cell_type": "markdown",
   "id": "80671930-57b4-476b-aec2-0aaf23f072b5",
   "metadata": {},
   "source": [
    "## Now get filename from spectra into same form as metadata"
   ]
  },
  {
   "cell_type": "code",
   "execution_count": 48,
   "id": "5f50eae0-1a22-4d35-ba87-0d853343d859",
   "metadata": {},
   "outputs": [
    {
     "name": "stdout",
     "output_type": "stream",
     "text": [
      "good job, no duplicate file names\n"
     ]
    }
   ],
   "source": [
    "# Remove these to get the pure file name\n",
    "file_s=pf.extracting_filenames_generic(\n",
    "    prefix=False, str_prefix=\" \",\n",
    "    names=df2['filename'].reset_index(drop=True),\n",
    "   file_type='.txt')\n",
    "\n",
    "# Remove the cosmic rays, as doesnt have it in the metatdata\n",
    "file_s = np.char.replace(file_s.astype(str), \"_CRR_DiadFit\", \"\")"
   ]
  },
  {
   "cell_type": "code",
   "execution_count": 49,
   "id": "c53ee945-9b20-473d-9cef-4cfe427ad368",
   "metadata": {},
   "outputs": [
    {
     "data": {
      "text/plain": [
       "array(['LL4-FI1-#1', 'LL4-FI1-#2 (1)', 'LL4-FI1-#2',\n",
       "       'LL7-107-FI#2_12mW1acc', 'LL7-109-FI', 'LL7-FI33', 'LL7-FI34',\n",
       "       'LL8-433-FI_12mW', 'LL8-433-FI_6mW', 'LL7-107-FI#2_6mW',\n",
       "       'LL7-107-FI#1', 'LL8-245'], dtype='<U21')"
      ]
     },
     "execution_count": 49,
     "metadata": {},
     "output_type": "execute_result"
    }
   ],
   "source": [
    "file_s"
   ]
  },
  {
   "cell_type": "code",
   "execution_count": 50,
   "id": "51df3d2d-72d3-44fa-a076-b087cfdb5eef",
   "metadata": {},
   "outputs": [],
   "source": [
    "# Combining them together\n",
    "meta['name_for_matching']=file_m\n",
    "df2['name_for_matching']=file_s\n",
    "df2['Name_for_Secondary_Phases']=file_s\n",
    "df_combo=df2.merge(meta, on='name_for_matching')"
   ]
  },
  {
   "cell_type": "code",
   "execution_count": 51,
   "id": "524e4721-cc10-49c6-a262-e7795d5de57d",
   "metadata": {},
   "outputs": [
    {
     "name": "stdout",
     "output_type": "stream",
     "text": [
      "1\n"
     ]
    },
    {
     "data": {
      "text/html": [
       "<div>\n",
       "<style scoped>\n",
       "    .dataframe tbody tr th:only-of-type {\n",
       "        vertical-align: middle;\n",
       "    }\n",
       "\n",
       "    .dataframe tbody tr th {\n",
       "        vertical-align: top;\n",
       "    }\n",
       "\n",
       "    .dataframe thead th {\n",
       "        text-align: right;\n",
       "    }\n",
       "</style>\n",
       "<table border=\"1\" class=\"dataframe\">\n",
       "  <thead>\n",
       "    <tr style=\"text-align: right;\">\n",
       "      <th></th>\n",
       "      <th>time</th>\n",
       "      <th>preferred_values</th>\n",
       "      <th>lower_values</th>\n",
       "      <th>upper_values</th>\n",
       "    </tr>\n",
       "  </thead>\n",
       "  <tbody>\n",
       "    <tr>\n",
       "      <th>0</th>\n",
       "      <td>52430.0</td>\n",
       "      <td>0.998239</td>\n",
       "      <td>0.998232</td>\n",
       "      <td>0.998245</td>\n",
       "    </tr>\n",
       "    <tr>\n",
       "      <th>1</th>\n",
       "      <td>51844.0</td>\n",
       "      <td>0.998244</td>\n",
       "      <td>0.998238</td>\n",
       "      <td>0.998251</td>\n",
       "    </tr>\n",
       "    <tr>\n",
       "      <th>2</th>\n",
       "      <td>51304.0</td>\n",
       "      <td>0.998250</td>\n",
       "      <td>0.998243</td>\n",
       "      <td>0.998256</td>\n",
       "    </tr>\n",
       "    <tr>\n",
       "      <th>3</th>\n",
       "      <td>57888.0</td>\n",
       "      <td>0.998202</td>\n",
       "      <td>0.998196</td>\n",
       "      <td>0.998208</td>\n",
       "    </tr>\n",
       "    <tr>\n",
       "      <th>4</th>\n",
       "      <td>58966.0</td>\n",
       "      <td>0.998199</td>\n",
       "      <td>0.998193</td>\n",
       "      <td>0.998205</td>\n",
       "    </tr>\n",
       "  </tbody>\n",
       "</table>\n",
       "</div>"
      ],
      "text/plain": [
       "      time  preferred_values  lower_values  upper_values\n",
       "0  52430.0          0.998239      0.998232      0.998245\n",
       "1  51844.0          0.998244      0.998238      0.998251\n",
       "2  51304.0          0.998250      0.998243      0.998256\n",
       "3  57888.0          0.998202      0.998196      0.998208\n",
       "4  58966.0          0.998199      0.998193      0.998205"
      ]
     },
     "execution_count": 51,
     "metadata": {},
     "output_type": "execute_result"
    }
   ],
   "source": [
    "Ne_corr=pf.calculate_Ne_corr_std_err_values(pickle_str='polyfit_data.pkl', \n",
    "    new_x=df_combo['sec since midnight'], CI=0.67)\n",
    "Ne_corr.head()\n"
   ]
  },
  {
   "cell_type": "code",
   "execution_count": 52,
   "id": "9e07a032-4a70-42f9-a291-7ce1f3ed3839",
   "metadata": {},
   "outputs": [],
   "source": [
    "\n",
    "split_err=pf.propagate_errors_for_splitting(Ne_corr, df_combo)\n",
    "df_combo_out=df_combo.copy()\n",
    "df_combo_out.insert(1, 'Corrected_Splitting', df_combo['Splitting']*Ne_corr['preferred_values'])\n",
    "df_combo_out.insert(2, 'Corr_Split+1σ', df_combo_out['Corrected_Splitting']+split_err)\n",
    "df_combo_out.insert(3, 'Corr_Split-1σ',df_combo_out['Corrected_Splitting']-split_err)\n",
    "df_combo_out.insert(4, 'Corr_Split_1σ_val', split_err)\n",
    "\n",
    "nm=os.path.basename(DayFolder)\n",
    "df_combo_out.to_excel(output_path+'/'+nm+'_FI_fitting.xlsx')"
   ]
  },
  {
   "attachments": {},
   "cell_type": "markdown",
   "id": "54b229a4-026d-4e4e-ab0a-ed0362566919",
   "metadata": {},
   "source": [
    "## If you have secondary phases, now is the time to merge those in"
   ]
  },
  {
   "cell_type": "code",
   "execution_count": 53,
   "id": "bc38474f-45cd-4fa5-beef-49db69e82989",
   "metadata": {},
   "outputs": [
    {
     "data": {
      "text/html": [
       "<div>\n",
       "<style scoped>\n",
       "    .dataframe tbody tr th:only-of-type {\n",
       "        vertical-align: middle;\n",
       "    }\n",
       "\n",
       "    .dataframe tbody tr th {\n",
       "        vertical-align: top;\n",
       "    }\n",
       "\n",
       "    .dataframe thead th {\n",
       "        text-align: right;\n",
       "    }\n",
       "</style>\n",
       "<table border=\"1\" class=\"dataframe\">\n",
       "  <thead>\n",
       "    <tr style=\"text-align: right;\">\n",
       "      <th></th>\n",
       "      <th>filename</th>\n",
       "      <th>Peak_Cent_SO2</th>\n",
       "      <th>Peak_Area_SO2</th>\n",
       "      <th>Peak_Height_SO2</th>\n",
       "      <th>Model_name</th>\n",
       "    </tr>\n",
       "  </thead>\n",
       "  <tbody>\n",
       "    <tr>\n",
       "      <th>0</th>\n",
       "      <td>LL4-FI1-#1.txt</td>\n",
       "      <td>1150.775772</td>\n",
       "      <td>84.693737</td>\n",
       "      <td>60.851251</td>\n",
       "      <td>Spline</td>\n",
       "    </tr>\n",
       "    <tr>\n",
       "      <th>1</th>\n",
       "      <td>LL4-FI1-#2 (1).txt</td>\n",
       "      <td>1150.716797</td>\n",
       "      <td>93.719106</td>\n",
       "      <td>67.561877</td>\n",
       "      <td>Spline</td>\n",
       "    </tr>\n",
       "    <tr>\n",
       "      <th>2</th>\n",
       "      <td>LL4-FI1-#2.txt</td>\n",
       "      <td>1150.746284</td>\n",
       "      <td>169.521071</td>\n",
       "      <td>137.106448</td>\n",
       "      <td>Spline</td>\n",
       "    </tr>\n",
       "  </tbody>\n",
       "</table>\n",
       "</div>"
      ],
      "text/plain": [
       "             filename  Peak_Cent_SO2  Peak_Area_SO2  Peak_Height_SO2  \\\n",
       "0      LL4-FI1-#1.txt    1150.775772      84.693737        60.851251   \n",
       "1  LL4-FI1-#2 (1).txt    1150.716797      93.719106        67.561877   \n",
       "2      LL4-FI1-#2.txt    1150.746284     169.521071       137.106448   \n",
       "\n",
       "  Model_name  \n",
       "0     Spline  \n",
       "1     Spline  \n",
       "2     Spline  "
      ]
     },
     "execution_count": 53,
     "metadata": {},
     "output_type": "execute_result"
    }
   ],
   "source": [
    "if path.exists('Carb_Peak_fits.xlsx'):\n",
    "    Carb=pd.read_excel('Carb_Peak_fits.xlsx')\n",
    "else:\n",
    "    Carb=None\n",
    "if path.exists('SO2_Peak_fits.xlsx'):\n",
    "    SO2=pd.read_excel('SO2_Peak_fits.xlsx')\n",
    "else:\n",
    "    SO2=None\n",
    "if SO2 is not None and Carb is not None:\n",
    "    Sec_Phases=pd.merge(SO2, Carb, on='filename', how='outer')\n",
    "elif SO2 is not None and Carb is None:\n",
    "    Sec_Phases=SO2\n",
    "elif SO2 is None and Carb is not None:\n",
    "    Sec_Phases=Carb\n",
    "else:\n",
    "    Sec_Phases=None\n",
    "Sec_Phases.head()"
   ]
  },
  {
   "cell_type": "code",
   "execution_count": 54,
   "id": "e8c12b56-b12d-4331-b45c-a204526e502a",
   "metadata": {},
   "outputs": [
    {
     "name": "stdout",
     "output_type": "stream",
     "text": [
      "good job, no duplicate file names\n"
     ]
    }
   ],
   "source": [
    "# Remove these to get the pure file name\n",
    "if Sec_Phases is not None:\n",
    "    file_sec_phase=pf.extracting_filenames_generic(\n",
    "        prefix=False, str_prefix=\" \",\n",
    "        names=Sec_Phases['filename'].reset_index(drop=True),\n",
    "       file_type='.txt')\n",
    "\n",
    "    file_sec_phase"
   ]
  },
  {
   "cell_type": "code",
   "execution_count": 55,
   "id": "ff6b1419-fa62-443b-95f1-78299d7d5656",
   "metadata": {},
   "outputs": [
    {
     "data": {
      "text/plain": [
       "array(['LL4-FI1-#1', 'LL4-FI1-#2 (1)', 'LL4-FI1-#2'], dtype=object)"
      ]
     },
     "execution_count": 55,
     "metadata": {},
     "output_type": "execute_result"
    }
   ],
   "source": [
    "file_sec_phase"
   ]
  },
  {
   "cell_type": "code",
   "execution_count": 56,
   "id": "56bacae4-1061-42b5-822a-4a58312a8c22",
   "metadata": {},
   "outputs": [
    {
     "data": {
      "text/plain": [
       "0                LL4-FI1-#1\n",
       "1            LL4-FI1-#2 (1)\n",
       "2                LL4-FI1-#2\n",
       "3     LL7-107-FI#2_12mW1acc\n",
       "4                LL7-109-FI\n",
       "5                  LL7-FI33\n",
       "6                  LL7-FI34\n",
       "7           LL8-433-FI_12mW\n",
       "8            LL8-433-FI_6mW\n",
       "9          LL7-107-FI#2_6mW\n",
       "10             LL7-107-FI#1\n",
       "11                  LL8-245\n",
       "Name: name_for_matching, dtype: object"
      ]
     },
     "execution_count": 56,
     "metadata": {},
     "output_type": "execute_result"
    }
   ],
   "source": [
    "df_combo['name_for_matching']"
   ]
  },
  {
   "cell_type": "code",
   "execution_count": 57,
   "id": "f09b738b-d075-4f6a-b033-c19e7afd5e26",
   "metadata": {},
   "outputs": [],
   "source": [
    "df_combo['name_for_matching']=df_combo['Name_for_Secondary_Phases']\n",
    "\n",
    "if Sec_Phases is not None:\n",
    "    Sec_Phases['name_for_matching']=file_sec_phase\n",
    "    df_combo_sec_phase=df_combo_out.merge(Sec_Phases, \n",
    "    on='name_for_matching', how='outer')\n",
    "    \n",
    "else:\n",
    "    df_combo_sec_phase=df_combo_out"
   ]
  },
  {
   "attachments": {},
   "cell_type": "markdown",
   "id": "299ea007-e39d-4ff7-8970-ccfbf9d5040c",
   "metadata": {},
   "source": [
    "### Add some more useful columns"
   ]
  },
  {
   "cell_type": "code",
   "execution_count": 58,
   "id": "97111939-e39c-43ce-8ea3-6bb9cd5d150d",
   "metadata": {},
   "outputs": [
    {
     "data": {
      "text/html": [
       "<div>\n",
       "<style scoped>\n",
       "    .dataframe tbody tr th:only-of-type {\n",
       "        vertical-align: middle;\n",
       "    }\n",
       "\n",
       "    .dataframe tbody tr th {\n",
       "        vertical-align: top;\n",
       "    }\n",
       "\n",
       "    .dataframe thead th {\n",
       "        text-align: right;\n",
       "    }\n",
       "</style>\n",
       "<table border=\"1\" class=\"dataframe\">\n",
       "  <thead>\n",
       "    <tr style=\"text-align: right;\">\n",
       "      <th></th>\n",
       "      <th>Unnamed: 0</th>\n",
       "      <th>Corrected_Splitting</th>\n",
       "      <th>Corr_Split+1σ</th>\n",
       "      <th>Corr_Split-1σ</th>\n",
       "      <th>Corr_Split_1σ_val</th>\n",
       "      <th>filename_x</th>\n",
       "      <th>Splitting</th>\n",
       "      <th>Split_err_abs</th>\n",
       "      <th>Split_err_quadrature</th>\n",
       "      <th>Diad1_Combofit_Cent</th>\n",
       "      <th>...</th>\n",
       "      <th>duration</th>\n",
       "      <th>24hr_time</th>\n",
       "      <th>sec since midnight</th>\n",
       "      <th>Spectral Center</th>\n",
       "      <th>filename</th>\n",
       "      <th>Peak_Cent_SO2</th>\n",
       "      <th>Peak_Area_SO2</th>\n",
       "      <th>Peak_Height_SO2</th>\n",
       "      <th>Model_name</th>\n",
       "      <th>SO2_Diad_Ratio</th>\n",
       "    </tr>\n",
       "  </thead>\n",
       "  <tbody>\n",
       "    <tr>\n",
       "      <th>0</th>\n",
       "      <td>0</td>\n",
       "      <td>103.071932</td>\n",
       "      <td>103.082343</td>\n",
       "      <td>103.061520</td>\n",
       "      <td>0.010411</td>\n",
       "      <td>LL4-FI1-#1_CRR_DiadFit</td>\n",
       "      <td>103.253808</td>\n",
       "      <td>0.014175</td>\n",
       "      <td>0.010410</td>\n",
       "      <td>1285.320300</td>\n",
       "      <td>...</td>\n",
       "      <td>['0h', '3m', '46s']</td>\n",
       "      <td>2:33:50 PM\\n</td>\n",
       "      <td>52430.0</td>\n",
       "      <td>1324.987</td>\n",
       "      <td>LL4-FI1-#1.txt</td>\n",
       "      <td>1150.775772</td>\n",
       "      <td>84.693737</td>\n",
       "      <td>60.851251</td>\n",
       "      <td>Spline</td>\n",
       "      <td>0.091963</td>\n",
       "    </tr>\n",
       "    <tr>\n",
       "      <th>1</th>\n",
       "      <td>0</td>\n",
       "      <td>103.065530</td>\n",
       "      <td>103.069256</td>\n",
       "      <td>103.061804</td>\n",
       "      <td>0.003726</td>\n",
       "      <td>LL4-FI1-#2 (1)_CRR_DiadFit</td>\n",
       "      <td>103.246802</td>\n",
       "      <td>0.003675</td>\n",
       "      <td>0.003675</td>\n",
       "      <td>1285.353606</td>\n",
       "      <td>...</td>\n",
       "      <td>['0h', '3m', '46s']</td>\n",
       "      <td>2:24:04 PM\\n</td>\n",
       "      <td>51844.0</td>\n",
       "      <td>1324.987</td>\n",
       "      <td>LL4-FI1-#2 (1).txt</td>\n",
       "      <td>1150.716797</td>\n",
       "      <td>93.719106</td>\n",
       "      <td>67.561877</td>\n",
       "      <td>Spline</td>\n",
       "      <td>0.041808</td>\n",
       "    </tr>\n",
       "    <tr>\n",
       "      <th>2</th>\n",
       "      <td>0</td>\n",
       "      <td>103.069266</td>\n",
       "      <td>103.073367</td>\n",
       "      <td>103.065166</td>\n",
       "      <td>0.004101</td>\n",
       "      <td>LL4-FI1-#2_CRR_DiadFit</td>\n",
       "      <td>103.249966</td>\n",
       "      <td>0.005273</td>\n",
       "      <td>0.004054</td>\n",
       "      <td>1285.366563</td>\n",
       "      <td>...</td>\n",
       "      <td>['0h', '3m', '46s']</td>\n",
       "      <td>2:15:04 PM\\n</td>\n",
       "      <td>51304.0</td>\n",
       "      <td>1324.987</td>\n",
       "      <td>LL4-FI1-#2.txt</td>\n",
       "      <td>1150.746284</td>\n",
       "      <td>169.521071</td>\n",
       "      <td>137.106448</td>\n",
       "      <td>Spline</td>\n",
       "      <td>0.037139</td>\n",
       "    </tr>\n",
       "    <tr>\n",
       "      <th>3</th>\n",
       "      <td>0</td>\n",
       "      <td>103.425332</td>\n",
       "      <td>103.429691</td>\n",
       "      <td>103.420973</td>\n",
       "      <td>0.004359</td>\n",
       "      <td>LL7-107-FI#2_12mW1acc_CRR_DiadFit</td>\n",
       "      <td>103.611593</td>\n",
       "      <td>0.004321</td>\n",
       "      <td>0.004321</td>\n",
       "      <td>1284.465839</td>\n",
       "      <td>...</td>\n",
       "      <td>['0h', '1m', '23s']</td>\n",
       "      <td>4:04:48 PM\\n</td>\n",
       "      <td>57888.0</td>\n",
       "      <td>1324.987</td>\n",
       "      <td>NaN</td>\n",
       "      <td>NaN</td>\n",
       "      <td>NaN</td>\n",
       "      <td>NaN</td>\n",
       "      <td>NaN</td>\n",
       "      <td>NaN</td>\n",
       "    </tr>\n",
       "    <tr>\n",
       "      <th>4</th>\n",
       "      <td>0</td>\n",
       "      <td>103.274818</td>\n",
       "      <td>103.302808</td>\n",
       "      <td>103.246828</td>\n",
       "      <td>0.027990</td>\n",
       "      <td>LL7-109-FI_CRR_DiadFit</td>\n",
       "      <td>103.461170</td>\n",
       "      <td>0.028033</td>\n",
       "      <td>0.028033</td>\n",
       "      <td>1284.821951</td>\n",
       "      <td>...</td>\n",
       "      <td>['0h', '3m', '47s']</td>\n",
       "      <td>4:22:46 PM\\n</td>\n",
       "      <td>58966.0</td>\n",
       "      <td>1324.987</td>\n",
       "      <td>NaN</td>\n",
       "      <td>NaN</td>\n",
       "      <td>NaN</td>\n",
       "      <td>NaN</td>\n",
       "      <td>NaN</td>\n",
       "      <td>NaN</td>\n",
       "    </tr>\n",
       "  </tbody>\n",
       "</table>\n",
       "<p>5 rows × 65 columns</p>\n",
       "</div>"
      ],
      "text/plain": [
       "   Unnamed: 0  Corrected_Splitting  Corr_Split+1σ  Corr_Split-1σ  \\\n",
       "0           0           103.071932     103.082343     103.061520   \n",
       "1           0           103.065530     103.069256     103.061804   \n",
       "2           0           103.069266     103.073367     103.065166   \n",
       "3           0           103.425332     103.429691     103.420973   \n",
       "4           0           103.274818     103.302808     103.246828   \n",
       "\n",
       "   Corr_Split_1σ_val                         filename_x   Splitting  \\\n",
       "0           0.010411             LL4-FI1-#1_CRR_DiadFit  103.253808   \n",
       "1           0.003726         LL4-FI1-#2 (1)_CRR_DiadFit  103.246802   \n",
       "2           0.004101             LL4-FI1-#2_CRR_DiadFit  103.249966   \n",
       "3           0.004359  LL7-107-FI#2_12mW1acc_CRR_DiadFit  103.611593   \n",
       "4           0.027990             LL7-109-FI_CRR_DiadFit  103.461170   \n",
       "\n",
       "   Split_err_abs  Split_err_quadrature  Diad1_Combofit_Cent  ...  \\\n",
       "0       0.014175              0.010410          1285.320300  ...   \n",
       "1       0.003675              0.003675          1285.353606  ...   \n",
       "2       0.005273              0.004054          1285.366563  ...   \n",
       "3       0.004321              0.004321          1284.465839  ...   \n",
       "4       0.028033              0.028033          1284.821951  ...   \n",
       "\n",
       "              duration     24hr_time  sec since midnight  Spectral Center  \\\n",
       "0  ['0h', '3m', '46s']  2:33:50 PM\\n             52430.0         1324.987   \n",
       "1  ['0h', '3m', '46s']  2:24:04 PM\\n             51844.0         1324.987   \n",
       "2  ['0h', '3m', '46s']  2:15:04 PM\\n             51304.0         1324.987   \n",
       "3  ['0h', '1m', '23s']  4:04:48 PM\\n             57888.0         1324.987   \n",
       "4  ['0h', '3m', '47s']  4:22:46 PM\\n             58966.0         1324.987   \n",
       "\n",
       "             filename  Peak_Cent_SO2  Peak_Area_SO2  Peak_Height_SO2  \\\n",
       "0      LL4-FI1-#1.txt    1150.775772      84.693737        60.851251   \n",
       "1  LL4-FI1-#2 (1).txt    1150.716797      93.719106        67.561877   \n",
       "2      LL4-FI1-#2.txt    1150.746284     169.521071       137.106448   \n",
       "3                 NaN            NaN            NaN              NaN   \n",
       "4                 NaN            NaN            NaN              NaN   \n",
       "\n",
       "  Model_name  SO2_Diad_Ratio  \n",
       "0     Spline        0.091963  \n",
       "1     Spline        0.041808  \n",
       "2     Spline        0.037139  \n",
       "3        NaN             NaN  \n",
       "4        NaN             NaN  \n",
       "\n",
       "[5 rows x 65 columns]"
      ]
     },
     "execution_count": 58,
     "metadata": {},
     "output_type": "execute_result"
    }
   ],
   "source": [
    "if 'Peak_Area_Carb' in df_combo_sec_phase.columns:\n",
    "    df_combo_sec_phase['Carb_Diad_Ratio']=(df_combo_sec_phase['Peak_Area_Carb']/(df_combo_sec_phase['Diad1_Voigt_Area']\n",
    "                      +df_combo_sec_phase['Diad2_Voigt_Area']))\n",
    "if 'Peak_Area_SO2' in df_combo_sec_phase.columns:\n",
    "    df_combo_sec_phase['SO2_Diad_Ratio']=(df_combo_sec_phase['Peak_Area_SO2']/(df_combo_sec_phase['Diad1_Voigt_Area']\n",
    "                      +df_combo_sec_phase['Diad2_Voigt_Area']))\n",
    "    \n",
    "df_combo_sec_phase.head()"
   ]
  },
  {
   "cell_type": "code",
   "execution_count": 59,
   "id": "9e5cffde-1b26-4aaf-b1c0-eb081c766242",
   "metadata": {},
   "outputs": [],
   "source": [
    "df_combo_sec_phase.to_excel(output_path+'/'+nm+'_FI_fitting_w_sec_phases.xlsx')"
   ]
  },
  {
   "cell_type": "code",
   "execution_count": 60,
   "id": "ba856608",
   "metadata": {},
   "outputs": [],
   "source": [
    "from winotify import Notification, audio\n",
    "\n",
    "toast= Notification(app_id=\"VSCode\",title=\"Notebook completed\",\n",
    "                    msg=\"Step4_Stitch_Outputs_Together is done!\",\n",
    "                    duration=\"short\")\n",
    "toast.set_audio(audio.Mail,loop=False)\n",
    "toast.show()"
   ]
  },
  {
   "cell_type": "code",
   "execution_count": null,
   "id": "4819c90e",
   "metadata": {},
   "outputs": [],
   "source": []
  },
  {
   "cell_type": "code",
   "execution_count": null,
   "id": "9a3d200d",
   "metadata": {},
   "outputs": [],
   "source": []
  },
  {
   "cell_type": "code",
   "execution_count": null,
   "id": "9bbfe0f9",
   "metadata": {},
   "outputs": [],
   "source": []
  }
 ],
 "metadata": {
  "kernelspec": {
   "display_name": "Python 3 (ipykernel)",
   "language": "python",
   "name": "python3"
  },
  "language_info": {
   "codemirror_mode": {
    "name": "ipython",
    "version": 3
   },
   "file_extension": ".py",
   "mimetype": "text/x-python",
   "name": "python",
   "nbconvert_exporter": "python",
   "pygments_lexer": "ipython3",
   "version": "3.9.16"
  }
 },
 "nbformat": 4,
 "nbformat_minor": 5
}
